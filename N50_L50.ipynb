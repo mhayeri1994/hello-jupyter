{
  "nbformat": 4,
  "nbformat_minor": 0,
  "metadata": {
    "colab": {
      "provenance": []
    },
    "kernelspec": {
      "name": "python3",
      "display_name": "Python 3"
    },
    "language_info": {
      "name": "python"
    }
  },
  "cells": [
    {
      "cell_type": "markdown",
      "source": [
        "# What is N50 and L50?\n",
        "N50 and L50 are terms commonly used in genomics and bioinformatics, particularly in the context of genome assembly.\n",
        "\n",
        "N50 refers to the median contig length of a genome assembly, where contigs are contiguous sequences of DNA. It is a measure of the quality of the assembly, with higher N50 values indicating longer contigs and a more complete assembly.\n",
        "\n",
        "L50, on the other hand, refers to the number of contigs that make up the N50 value. In other words, it is the number of contigs that are at least as long as the N50 value.\n",
        "\n",
        "Together, N50 and L50 provide a way to evaluate the quality and completeness of a genome assembly. A higher N50 value and a lower L50 value generally indicate a better assembly."
      ],
      "metadata": {
        "id": "jlYRxKcTcVym"
      }
    },
    {
      "cell_type": "markdown",
      "source": [
        "# compare N50 and L50\n",
        "N50 and L50 are related but distinct metrics used to evaluate the quality of a genome assembly.\n",
        "\n",
        "N50 is a measure of the median contig length, where contigs are contiguous sequences of DNA. It represents the length of the contig at which 50% of the total assembly length is contained in contigs of that length or longer.\n",
        "\n",
        "L50, on the other hand, is a measure of the number of contigs that make up the N50 value. It represents the number of contigs that are at least as long as the N50 value.\n",
        "\n",
        "To illustrate the difference:\n",
        "\n",
        "    A high N50 value indicates that the assembly has long contigs, but it doesn't provide information about the number of contigs.\n",
        "    A low L50 value indicates that the assembly has fewer, longer contigs, which is generally desirable.\n",
        "\n",
        "For example, consider two assemblies:\n",
        "\n",
        "Assembly A: N50 = 100,000 bp, L50 = 10\n",
        "Assembly B: N50 = 50,000 bp, L50 = 20\n",
        "\n",
        "__In this case, Assembly A has longer contigs (higher N50), but it also has fewer contigs (lower L50), indicating a more complete assembly.__"
      ],
      "metadata": {
        "id": "-Pjen_KlccRl"
      }
    },
    {
      "cell_type": "markdown",
      "source": [
        "# Example\n",
        "Here's an example to illustrate the difference between N50 and L50:\n",
        "\n",
        "Suppose we have a genome assembly with the following contig lengths:\n",
        "\n",
        "    Contig 1: 150,000 bp\n",
        "    Contig 2: 120,000 bp\n",
        "    Contig 3: 100,000 bp\n",
        "    Contig 4: 80,000 bp\n",
        "    Contig 5: 60,000 bp\n",
        "    Contig 6: 40,000 bp\n",
        "    Contig 7: 20,000 bp\n",
        "    Contig 8: 10,000 bp\n",
        "\n",
        "The total assembly length is 680,000 bp.\n",
        "\n",
        "To calculate N50, we need to find the median contig length. Let's arrange the contigs in order from longest to shortest:\n",
        "\n",
        "    150,000 bp\n",
        "    120,000 bp\n",
        "    100,000 bp\n",
        "    80,000 bp\n",
        "    60,000 bp\n",
        "    40,000 bp\n",
        "    20,000 bp\n",
        "    10,000 bp\n",
        "\n",
        "The median contig length is the average of the 4th and 5th contigs, which is (80,000 + 60,000) / 2 = 70,000 bp. However, since the 5th contig is 60,000 bp and the 4th contig is 80,000 bp, and 50% of the total assembly length is contained in contigs of 80,000 bp or longer, the N50 is actually 80,000 bp.\n",
        "\n",
        "__To calculate L50, we need to find the number of contigs that are at least as long as the N50 value. In this case, there are 4 contigs that are at least 80,000 bp long (Contigs 1-4). Therefore, the L50 is 4.__\n",
        "\n",
        "So, in this example:\n",
        "\n",
        "    N50 = 80,000 bp\n",
        "    L50 = 4\n"
      ],
      "metadata": {
        "id": "D-pRxovldAc-"
      }
    },
    {
      "cell_type": "code",
      "source": [
        "def calculate_n50_l50(contig_lengths:list)-> tuple:\n",
        "    \"\"\"\n",
        "    Calculate N50 and L50 from a list of contig lengths.\n",
        "\n",
        "    Args:\n",
        "        contig_lengths (list): A list of contig lengths.\n",
        "\n",
        "    Returns:\n",
        "        tuple: A tuple containing the N50 and L50 values.\n",
        "    \"\"\"\n",
        "    # Sort the contig lengths in descending order\n",
        "    contig_lengths.sort(reverse=True)\n",
        "\n",
        "    # Calculate the total length of all contigs\n",
        "    total_length = sum(contig_lengths)\n",
        "\n",
        "    # Find the midpoint of the total length\n",
        "    midpoint = total_length / 2\n",
        "\n",
        "    # Initialize variables to track the cumulative length and the number of contigs\n",
        "    cumulative_length = 0\n",
        "    num_contigs = 0\n",
        "\n",
        "    # Iterate over the contig lengths to find the N50 and L50\n",
        "    for length in contig_lengths:\n",
        "        cumulative_length += length\n",
        "        num_contigs += 1\n",
        "\n",
        "        # Check if the cumulative length has reached the midpoint\n",
        "        if cumulative_length >= midpoint:\n",
        "            # The N50 is the current contig length\n",
        "            n50 = length\n",
        "            # The L50 is the number of contigs needed to reach the midpoint\n",
        "            l50 = num_contigs\n",
        "            break\n",
        "\n",
        "    return n50, l50"
      ],
      "metadata": {
        "id": "ibzRgH22y7MS"
      },
      "execution_count": 44,
      "outputs": []
    },
    {
      "cell_type": "code",
      "source": [
        "# Example usage:\n",
        "contig_lengths = [1000, 800, 700, 600, 500, 400, 300, 200, 100]\n",
        "n50, l50 = calculate_n50_l50(contig_lengths)\n",
        "print(f\"N50: {n50}\")\n",
        "print(f\"L50: #{l50}\")"
      ],
      "metadata": {
        "colab": {
          "base_uri": "https://localhost:8080/"
        },
        "id": "7JrB0paEl5Hg",
        "outputId": "730e556b-b73c-4776-d845-94fd1b3c0236"
      },
      "execution_count": 45,
      "outputs": [
        {
          "output_type": "stream",
          "name": "stdout",
          "text": [
            "N50: 700\n",
            "L50: #3\n"
          ]
        }
      ]
    },
    {
      "cell_type": "code",
      "source": [
        "import numpy as np\n",
        "\n",
        "mean = 100\n",
        "stddev = 10\n",
        "n = 20\n",
        "bp_numbers = np.random.normal(mean, stddev, n).astype(int)\n",
        "\n",
        "print(f\"original bp number orders: {bp_numbers}\")\n",
        "print(f\"sorted bp numbers: {np.sort(bp_numbers)[::-1]})\")\n",
        "print(f\"N50, L50= {calculate_n50_l50(list(bp_numbers))}\")"
      ],
      "metadata": {
        "colab": {
          "base_uri": "https://localhost:8080/"
        },
        "id": "hkG57cv1qUdR",
        "outputId": "e556064f-a256-43af-b44b-7fe41ba81bcb"
      },
      "execution_count": 56,
      "outputs": [
        {
          "output_type": "stream",
          "name": "stdout",
          "text": [
            "original bp number orders: [105 105 108 110 107  85 117 110  87 109 104 112  83  82  82 109 104  92\n",
            " 112 103]\n",
            "sorted bp numbers: [117 112 112 110 110 109 109 108 107 105 105 104 104 103  92  87  85  83\n",
            "  82  82])\n",
            "N50, L50= (105, 10)\n"
          ]
        }
      ]
    },
    {
      "cell_type": "markdown",
      "source": [
        "# why N50 and L50?\n",
        "\n",
        "N50 and L50 are important metrics in genomics and bioinformatics because they provide a way to evaluate the quality and completeness of a genome assembly. Here are some reasons why N50 and L50 are important:\n",
        "- `Assembly quality`: N50 and L50 are used to assess the quality of a genome assembly. A higher N50 value indicates that the assembly has longer contigs, which is generally desirable. A lower L50 value indicates that the assembly has fewer, longer contigs, which is also desirable.\n",
        "- `Genome completeness`: N50 and L50 can be used to estimate the completeness of a genome assembly. A higher N50 value and a lower L50 value indicate that the assembly is more complete.\n",
        "- ..."
      ],
      "metadata": {
        "id": "21_iJNEMn3tO"
      }
    },
    {
      "cell_type": "markdown",
      "source": [
        "# real example\n",
        "\n",
        "Human Genome Project: The Human Genome Project used N50 and L50 to evaluate the quality of the human genome assembly. The final assembly had an N50 of 57.9 Mb and an L50 of 999 contigs is 18.\n",
        "```\n",
        "                        GenBank\n",
        "Genome size\t         3.1 Gb\n",
        "Total ungapped length   2.9 Gb\n",
        "Number of contigs\t   999\n",
        "Contig N50\t      \t57.9 Mb\n",
        "Contig L50\t          18\n",
        "```\n",
        "https://www.ncbi.nlm.nih.gov/datasets/genome/GCF_000001405.26/"
      ],
      "metadata": {
        "id": "hkYKtbZDpWAH"
      }
    },
    {
      "cell_type": "code",
      "source": [],
      "metadata": {
        "id": "SnN9E24tpbE-"
      },
      "execution_count": null,
      "outputs": []
    }
  ]
}