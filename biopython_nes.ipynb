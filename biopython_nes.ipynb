{
  "nbformat": 4,
  "nbformat_minor": 0,
  "metadata": {
    "colab": {
      "provenance": [],
      "authorship_tag": "ABX9TyP/CsMBa1fa0vfNt8zO7JgE",
      "include_colab_link": true
    },
    "kernelspec": {
      "name": "python3",
      "display_name": "Python 3"
    },
    "language_info": {
      "name": "python"
    }
  },
  "cells": [
    {
      "cell_type": "markdown",
      "metadata": {
        "id": "view-in-github",
        "colab_type": "text"
      },
      "source": [
        "<a href=\"https://colab.research.google.com/github/mhayeri1994/hello-jupyter/blob/main/biopython_nes.ipynb\" target=\"_parent\"><img src=\"https://colab.research.google.com/assets/colab-badge.svg\" alt=\"Open In Colab\"/></a>"
      ]
    },
    {
      "cell_type": "markdown",
      "source": [
        "# Install biopython"
      ],
      "metadata": {
        "id": "VWLfzE5vrQOg"
      }
    },
    {
      "cell_type": "code",
      "execution_count": 1,
      "metadata": {
        "colab": {
          "base_uri": "https://localhost:8080/"
        },
        "id": "nAUvg_4Se8A1",
        "outputId": "44e53609-5b54-471f-c7f8-62e9994f413c"
      },
      "outputs": [
        {
          "output_type": "stream",
          "name": "stdout",
          "text": [
            "Collecting biopython\n",
            "  Downloading biopython-1.84-cp310-cp310-manylinux_2_17_x86_64.manylinux2014_x86_64.whl.metadata (12 kB)\n",
            "Requirement already satisfied: numpy in /usr/local/lib/python3.10/dist-packages (from biopython) (1.26.4)\n",
            "Downloading biopython-1.84-cp310-cp310-manylinux_2_17_x86_64.manylinux2014_x86_64.whl (3.2 MB)\n",
            "\u001b[2K   \u001b[90m━━━━━━━━━━━━━━━━━━━━━━━━━━━━━━━━━━━━━━━━\u001b[0m \u001b[32m3.2/3.2 MB\u001b[0m \u001b[31m5.2 MB/s\u001b[0m eta \u001b[36m0:00:00\u001b[0m\n",
            "\u001b[?25hInstalling collected packages: biopython\n",
            "Successfully installed biopython-1.84\n"
          ]
        }
      ],
      "source": [
        "!pip install biopython"
      ]
    },
    {
      "cell_type": "markdown",
      "source": [
        "# DNA Sequence Operations"
      ],
      "metadata": {
        "id": "ZyV7gg_T4oMh"
      }
    },
    {
      "cell_type": "markdown",
      "source": [
        "## Create DNA Sequence"
      ],
      "metadata": {
        "id": "bex8yIUbrdT0"
      }
    },
    {
      "cell_type": "code",
      "source": [
        "from Bio.Seq import Seq\n",
        "\n",
        "# Create a DNA sequence\n",
        "dna_sequence = Seq(\"ACGTACGTAGCTAGCTAGCTA\")\n",
        "print(\"DNA Sequence:\", dna_sequence)"
      ],
      "metadata": {
        "colab": {
          "base_uri": "https://localhost:8080/"
        },
        "id": "1-YX-7vnrcRH",
        "outputId": "03a1968b-48aa-4ce5-dd82-aa5bd13c866f"
      },
      "execution_count": 4,
      "outputs": [
        {
          "output_type": "stream",
          "name": "stdout",
          "text": [
            "DNA Sequence: ACGTACGTAGCTAGCTAGCTA\n"
          ]
        }
      ]
    },
    {
      "cell_type": "markdown",
      "source": [
        "## Transcription (DNA to RNA)"
      ],
      "metadata": {
        "id": "bQBoYkUrrtlO"
      }
    },
    {
      "cell_type": "code",
      "source": [
        "# Transcribe DNA to RNA\n",
        "rna_sequence = dna_sequence.transcribe()\n",
        "print(\"RNA Sequence:\", rna_sequence)"
      ],
      "metadata": {
        "colab": {
          "base_uri": "https://localhost:8080/"
        },
        "id": "nsdAGriBrxG4",
        "outputId": "5659e458-f9ff-4f6c-ced2-b5e60eb35dba"
      },
      "execution_count": 5,
      "outputs": [
        {
          "output_type": "stream",
          "name": "stdout",
          "text": [
            "RNA Sequence: ACGUACGUAGCUAGCUAGCUA\n"
          ]
        }
      ]
    },
    {
      "cell_type": "markdown",
      "source": [
        "## Translation (RNA to Protein)"
      ],
      "metadata": {
        "id": "r3uT07Cir4j5"
      }
    },
    {
      "cell_type": "code",
      "source": [
        "# Translate RNA to Protein\n",
        "protein_sequence = rna_sequence.translate()\n",
        "print(\"Protein Sequence:\", protein_sequence)"
      ],
      "metadata": {
        "colab": {
          "base_uri": "https://localhost:8080/"
        },
        "id": "_-lSYQq0sAsU",
        "outputId": "7565680b-c2b6-4833-bae2-6f49fea390d7"
      },
      "execution_count": 6,
      "outputs": [
        {
          "output_type": "stream",
          "name": "stdout",
          "text": [
            "Protein Sequence: TYVAS*L\n"
          ]
        }
      ]
    },
    {
      "cell_type": "markdown",
      "source": [
        "## Complement and Reverse Complement"
      ],
      "metadata": {
        "id": "H0QJCLZJ3qgk"
      }
    },
    {
      "cell_type": "code",
      "source": [
        "# Get the complement of the DNA sequence\n",
        "complement_sequence = dna_sequence.complement()\n",
        "print(\"Complement Sequence:\", complement_sequence)\n",
        "\n",
        "# Get the reverse complement of the DNA sequence\n",
        "reverse_complement_sequence = dna_sequence.reverse_complement()\n",
        "print(\"Reverse Complement Sequence:\", reverse_complement_sequence)\n"
      ],
      "metadata": {
        "id": "remWXbPA3rYs"
      },
      "execution_count": null,
      "outputs": []
    },
    {
      "cell_type": "markdown",
      "source": [
        "## Finding a Subsequence"
      ],
      "metadata": {
        "id": "gObVbG6L33MU"
      }
    },
    {
      "cell_type": "code",
      "source": [
        "# Find a subsequence in the DNA sequence\n",
        "subsequence = \"ACGT\"\n",
        "start_index = dna_sequence.find(subsequence)\n",
        "print(\"Subsequence found at index:\", start_index)\n"
      ],
      "metadata": {
        "id": "-dylnbWo32Zt"
      },
      "execution_count": null,
      "outputs": []
    },
    {
      "cell_type": "markdown",
      "source": [
        "# Reading DNA Sequences from a File"
      ],
      "metadata": {
        "id": "h1zTmLq84REM"
      }
    },
    {
      "cell_type": "code",
      "source": [
        "from Bio import SeqIO\n",
        "\n",
        "# Read sequences from a FASTA file\n",
        "for record in SeqIO.parse(\"example.fasta\", \"fasta\"):\n",
        "    print(\"ID:\", record.id)\n",
        "    print(\"Sequence:\", record.seq)"
      ],
      "metadata": {
        "id": "Y9EVS5NU4RpX"
      },
      "execution_count": null,
      "outputs": []
    },
    {
      "cell_type": "markdown",
      "source": [
        "# Writing DNA Sequences to a File"
      ],
      "metadata": {
        "id": "4u2c3v595Hlv"
      }
    },
    {
      "cell_type": "code",
      "source": [
        "from Bio import SeqIO\n",
        "\n",
        "# Create a new sequence record\n",
        "new_record = SeqIO.SeqRecord(Seq(\"ACGTACGTAGCTAGCTAGCTA\"), id=\"example\", description=\"Example DNA sequence\")\n",
        "\n",
        "# Write to a FASTA file\n",
        "with open(\"output.fasta\", \"w\") as output_file:\n",
        "    SeqIO.write(new_record, output_file, \"fasta\")\n"
      ],
      "metadata": {
        "id": "sH8Qy_4u5IPE"
      },
      "execution_count": 1,
      "outputs": []
    },
    {
      "cell_type": "markdown",
      "source": [
        "# Sample of ..."
      ],
      "metadata": {
        "id": "YChDT0OIr8_v"
      }
    },
    {
      "cell_type": "code",
      "source": [
        "from Bio import Entrez, SeqIO\n",
        "\n",
        "# Always use your email when using Entrez\n",
        "Entrez.email = \"user3435@testhost23.com\"\n",
        "\n",
        "# Fetch a sequence by its accession number\n",
        "accession_number = \"NM_001301717\"\n",
        "handle = Entrez.efetch(db=\"nucleotide\", id=accession_number, rettype=\"gb\", retmode=\"text\")\n",
        "record = SeqIO.read(handle, \"genbank\")\n",
        "handle.close()\n",
        "\n",
        "# Print the sequence\n",
        "print(record.seq)\n"
      ],
      "metadata": {
        "colab": {
          "base_uri": "https://localhost:8080/"
        },
        "id": "TXF_Jbz3mpXX",
        "outputId": "c236cd14-c249-499a-eb7a-d0b9ffacf4a4"
      },
      "execution_count": null,
      "outputs": [
        {
          "output_type": "stream",
          "name": "stdout",
          "text": [
            "CTCTAGATGAGTCAGTGGAGGGCGGGTGGAGCGTTGAACCGTGAAGAGTGTGGTTGGGCGTAAACGTGGACTTAAACTCAGGAGCTAAGGGGGAAACCAATGAAAAGCGTGCTGGTGGTGGCTCTCCTTGTCATTTTCCAGGTATGCCTGTGTCAAGATGAGGTCACGGACGATTACATCGGAGACAACACCACAGTGGACTACACTTTGTTCGAGTCTTTGTGCTCCAAGAAGGACGTGCGGAACTTTAAAGCCTGGTTCCTCCCTATCATGTACTCCATCATTTGTTTCGTGGGCCTACTGGGCAATGGGCTGGTCGTGTTGACCTATATCTATTTCAAGAGGCTCAAGACCATGACCGATACCTACCTGCTCAACCTGGCGGTGGCAGACATCCTCTTCCTCCTGACCCTTCCCTTCTGGGCCTACAGCGCGGCCAAGTCCTGGGTCTTCGGTGTCCACTTTTGCAAGCTCATCTTTGCCATCTACAAGATGAGCTTCTTCAGTGGCATGCTCCTACTTCTTTGCATCAGCATTGACCGCTACGTGGCCATCGTCCAGGCTGTCTCAGCTCACCGCCACCGTGCCCGCGTCCTTCTCATCAGCAAGCTGTCCTGTGTGGGCATCTGGATACTAGCCACAGTGCTCTCCATCCCAGAGCTCCTGTACAGTGACCTCCAGAGGAGCAGCAGTGAGCAAGCGATGCGATGCTCTCTCATCACAGAGCATGTGGAGGCCTTTATCACCATCCAGGTGGCCCAGATGGTGATCGGCTTTCTGGTCCCCCTGCTGGCCATGAGCTTCTGTTACCTTGTCATCATCCGCACCCTGCTCCAGGCACGCAACTTTGAGCGCAACAAGGCCATCAAGGTGATCATCGCTGTGGTCGTGGTCTTCATAGTCTTCCAGCTGCCCTACAATGGGGTGGTCCTGGCCCAGACGGTGGCCAACTTCAACATCACCAGTAGCACCTGTGAGCTCAGTAAGCAACTCAACATCGCCTACGACGTCACCTACAGCCTGGCCTGCGTCCGCTGCTGCGTCAACCCTTTCTTGTACGCCTTCATCGGCGTCAAGTTCCGCAACGATCTCTTCAAGCTCTTCAAGGACCTGGGCTGCCTCAGCCAGGAGCAGCTCCGGCAGTGGTCTTCCTGTCGGCACATCCGGCGCTCCTCCATGAGTGTGGAGGCCGAGACCACCACCACCTTCTCCCCATAGGCGACTCTTCTGCCTGGACTAGAGGGACCTCTCCCAGGGTCCCTGGGGTGGGGATAGGGAGCAGATGCAATGACTCAGGACATCCCCCCGCCAAAAGCTGCTCAGGGAAAAGCAGCTCTCCCCTCAGAGTGCAAGCCCCTGCTCCAGAAGATAGCTTCACCCCAATCCCAGCTACCTCAACCAATGCCAAAAAAAGACAGGGCTGATAAGCTAACACCAGACAGACAACACTGGGAAACAGAGGCTATTGTCCCCTAAACCAAAAACTGAAAGTGAAAGTCCAGAAACTGTTCCCACCTGCTGGAGTGAAGGGGCCAAGGAGGGTGAGTGCAAGGGGCGTGGGAGTGGCCTGAAGAGTCCTCTGAATGAACCTTCTGGCCTCCCACAGACTCAAATGCTCAGACCAGCTCTTCCGAAAACCAGGCCTTATCTCCAAGACCAGAGATAGTGGGGAGACTTCTTGGCTTGGTGAGGAAAAGCGGACATCAGCTGGTCAAACAAACTCTCTGAACCCCTCCCTCCATCGTTTTCTTCACTGTCCTCCAAGCCAGCGGGAATGGCAGCTGCCACGCCGCCCTAAAAGCACACTCATCCCCTCACTTGCCGCGTCGCCCTCCCAGGCTCTCAACAGGGGAGAGTGTGGTGTTTCCTGCAGGCCAGGCCAGCTGCCTCCGCGTGATCAAAGCCACACTCTGGGCTCCAGAGTGGGGATGACATGCACTCAGCTCTTGGCTCCACTGGGATGGGAGGAGAGGACAAGGGAAATGTCAGGGGCGGGGAGGGTGACAGTGGCCGCCCAAGGCCCACGAGCTTGTTCTTTGTTCTTTGTCACAGGGACTGAAAACCTCTCCTCATGTTCTGCTTTCGATTCGTTAAGAGAGCAACATTTTACCCACACACAGATAAAGTTTTCCCTTGAGGAAACAACAGCTTTAAAAGAAAAAGAAAAAAAAAGTCTTTGGTAAATGGCAAA\n"
          ]
        }
      ]
    },
    {
      "cell_type": "code",
      "source": [
        "len(record.seq)"
      ],
      "metadata": {
        "colab": {
          "base_uri": "https://localhost:8080/"
        },
        "id": "dhRlMO6XnGyT",
        "outputId": "dde02a7e-a574-4e78-c840-b8aa3caf9e39"
      },
      "execution_count": null,
      "outputs": [
        {
          "output_type": "execute_result",
          "data": {
            "text/plain": [
              "2191"
            ]
          },
          "metadata": {},
          "execution_count": 16
        }
      ]
    },
    {
      "cell_type": "code",
      "source": [
        "from Bio import Entrez, SeqIO\n",
        "\n",
        "# Set your email (NCBI requires an email address for identification)\n",
        "Entrez.email = \"user3435@testhost23.com\"\n",
        "\n",
        "# Search for the HBB gene associated with sickle cell anemia\n",
        "search_term = \"HBB[Gene] AND Homo sapiens[Organism]\"\n",
        "handle = Entrez.esearch(db=\"nucleotide\", term=search_term)\n",
        "record = Entrez.read(handle)\n",
        "handle.close()\n",
        "\n",
        "# Get the first ID from the search results\n",
        "hbb_id = record[\"IdList\"][0]\n",
        "\n",
        "# Fetch the sequence using the ID\n",
        "handle = Entrez.efetch(db=\"nucleotide\", id=hbb_id, rettype=\"gb\", retmode=\"text\")\n",
        "sequence_record = handle.read()\n",
        "handle.close()\n",
        "\n",
        "# Print the sequence record\n",
        "print(sequence_record)\n",
        "\n",
        "# Optionally, you can parse the sequence and extract just the nucleotide sequence\n",
        "from Bio import SeqIO\n",
        "from io import StringIO\n",
        "\n",
        "# Use StringIO to read the fetched data\n",
        "sequence_data = StringIO(sequence_record)\n",
        "for seq_record in SeqIO.parse(sequence_data, \"genbank\"):\n",
        "    print(\"Gene ID:\", seq_record.id)\n",
        "    print(\"Description:\", seq_record.description)\n",
        "    print(\"Sequence:\", seq_record.seq)"
      ],
      "metadata": {
        "colab": {
          "base_uri": "https://localhost:8080/"
        },
        "id": "0mWirYRX5rmf",
        "outputId": "f4955e67-be43-44cd-88c8-a81e34c31676"
      },
      "execution_count": 2,
      "outputs": [
        {
          "output_type": "stream",
          "name": "stdout",
          "text": [
            "LOCUS       NG_059281              10106 bp    DNA     linear   PRI 10-OCT-2024\n",
            "DEFINITION  Homo sapiens hemoglobin subunit beta (HBB), RefSeqGene (LRG_1232)\n",
            "            on chromosome 11.\n",
            "ACCESSION   NG_059281\n",
            "VERSION     NG_059281.1\n",
            "KEYWORDS    RefSeq; RefSeqGene.\n",
            "SOURCE      Homo sapiens (human)\n",
            "  ORGANISM  Homo sapiens\n",
            "            Eukaryota; Metazoa; Chordata; Craniata; Vertebrata; Euteleostomi;\n",
            "            Mammalia; Eutheria; Euarchontoglires; Primates; Haplorrhini;\n",
            "            Catarrhini; Hominidae; Homo.\n",
            "REFERENCE   1  (bases 1 to 10106)\n",
            "  AUTHORS   Calvo,S.E., Pagliarini,D.J. and Mootha,V.K.\n",
            "  TITLE     Upstream open reading frames cause widespread reduction of protein\n",
            "            expression and are polymorphic among humans\n",
            "  JOURNAL   Proc Natl Acad Sci U S A 106 (18), 7507-7512 (2009)\n",
            "   PUBMED   19372376\n",
            "REFERENCE   2  (bases 1 to 10106)\n",
            "  AUTHORS   Langer,A.L.\n",
            "  TITLE     Beta-Thalassemia\n",
            "  JOURNAL   (in) Adam MP, Feldman J, Mirzaa GM, Pagon RA, Wallace SE and\n",
            "            Amemiya A (Eds.);\n",
            "            GENEREVIEWS(R);\n",
            "            (1993)\n",
            "   PUBMED   20301599\n",
            "REFERENCE   3  (bases 1 to 10106)\n",
            "  AUTHORS   Bender,M.A. and Carlberg,K.\n",
            "  TITLE     Sickle Cell Disease\n",
            "  JOURNAL   (in) Adam MP, Feldman J, Mirzaa GM, Pagon RA, Wallace SE and\n",
            "            Amemiya A (Eds.);\n",
            "            GENEREVIEWS(R);\n",
            "            (1993)\n",
            "   PUBMED   20301551\n",
            "COMMENT     REVIEWED REFSEQ: This record has been curated by NCBI staff in\n",
            "            collaboration with Austin Diamond, Patricia W. Mueller, Johan den\n",
            "            Dunnen, Matthew Oakley, Barnaby Clark. The reference sequence was\n",
            "            derived from AC104389.8.\n",
            "            This sequence is a reference standard in the RefSeqGene project.\n",
            "            \n",
            "            Summary: The alpha (HBA) and beta (HBB) loci determine the\n",
            "            structure of the 2 types of polypeptide chains in adult hemoglobin,\n",
            "            Hb A. The normal adult hemoglobin tetramer consists of two alpha\n",
            "            chains and two beta chains. Mutant beta globin causes sickle cell\n",
            "            anemia. Absence of beta chain causes beta-zero-thalassemia. Reduced\n",
            "            amounts of detectable beta globin causes beta-plus-thalassemia. The\n",
            "            order of the genes in the beta-globin cluster is 5'-epsilon --\n",
            "            gamma-G -- gamma-A -- delta -- beta--3'. [provided by RefSeq, Jul\n",
            "            2008].\n",
            "PRIMARY     REFSEQ_SPAN         PRIMARY_IDENTIFIER PRIMARY_SPAN        COMP\n",
            "            1-10106             AC104389.8         24306-34411         c\n",
            "FEATURES             Location/Qualifiers\n",
            "     source          1..10106\n",
            "                     /organism=\"Homo sapiens\"\n",
            "                     /mol_type=\"genomic DNA\"\n",
            "                     /db_xref=\"taxon:9606\"\n",
            "                     /chromosome=\"11\"\n",
            "                     /map=\"11p15.4\"\n",
            "     gene            5001..6608\n",
            "                     /gene=\"HBB\"\n",
            "                     /gene_synonym=\"beta-globin; CD113t-C; ECYT6\"\n",
            "                     /note=\"hemoglobin subunit beta\"\n",
            "                     /db_xref=\"GeneID:3043\"\n",
            "                     /db_xref=\"HGNC:HGNC:4827\"\n",
            "                     /db_xref=\"MIM:141900\"\n",
            "     mRNA            join(5001..5142,5273..5495,6346..6608)\n",
            "                     /gene=\"HBB\"\n",
            "                     /gene_synonym=\"beta-globin; CD113t-C; ECYT6\"\n",
            "                     /product=\"hemoglobin subunit beta\"\n",
            "                     /transcript_id=\"NM_000518.5\"\n",
            "                     /db_xref=\"GeneID:3043\"\n",
            "                     /db_xref=\"LRG:t1\"\n",
            "                     /db_xref=\"HGNC:HGNC:4827\"\n",
            "                     /db_xref=\"MIM:141900\"\n",
            "     exon            5001..5142\n",
            "                     /gene=\"HBB\"\n",
            "                     /gene_synonym=\"beta-globin; CD113t-C; ECYT6\"\n",
            "                     /inference=\"alignment:Splign:2.1.0\"\n",
            "                     /number=1\n",
            "     CDS             join(5051..5142,5273..5495,6346..6474)\n",
            "                     /gene=\"HBB\"\n",
            "                     /gene_synonym=\"beta-globin; CD113t-C; ECYT6\"\n",
            "                     /note=\"beta globin chain; hemoglobin, beta; hemoglobin\n",
            "                     beta subunit\"\n",
            "                     /codon_start=1\n",
            "                     /product=\"hemoglobin subunit beta\"\n",
            "                     /protein_id=\"NP_000509.1\"\n",
            "                     /db_xref=\"CCDS:CCDS7753.1\"\n",
            "                     /db_xref=\"GeneID:3043\"\n",
            "                     /db_xref=\"LRG:p1\"\n",
            "                     /db_xref=\"HGNC:HGNC:4827\"\n",
            "                     /db_xref=\"MIM:141900\"\n",
            "                     /translation=\"MVHLTPEEKSAVTALWGKVNVDEVGGEALGRLLVVYPWTQRFFE\n",
            "                     SFGDLSTPDAVMGNPKVKAHGKKVLGAFSDGLAHLDNLKGTFATLSELHCDKLHVDPE\n",
            "                     NFRLLGNVLVCVLAHHFGKEFTPPVQAAYQKVVAGVANALAHKYH\"\n",
            "     misc_feature    5054..5056\n",
            "                     /gene=\"HBB\"\n",
            "                     /gene_synonym=\"beta-globin; CD113t-C; ECYT6\"\n",
            "                     /note=\"N-acetylvaline.\n",
            "                     /evidence=ECO:0000250|UniProtKB:P02086; propagated from\n",
            "                     UniProtKB/Swiss-Prot (P68871.2); acetylation site\"\n",
            "     misc_feature    5054..5056\n",
            "                     /gene=\"HBB\"\n",
            "                     /gene_synonym=\"beta-globin; CD113t-C; ECYT6\"\n",
            "                     /note=\"N-linked (Glc) (glycation) valine, in Hb A1c.\n",
            "                     /evidence=ECO:0000269|PubMed:635569; propagated from\n",
            "                     UniProtKB/Swiss-Prot (P68871.2); glycosylation site\"\n",
            "     misc_feature    5072..5077\n",
            "                     /gene=\"HBB\"\n",
            "                     /gene_synonym=\"beta-globin; CD113t-C; ECYT6\"\n",
            "                     /note=\"(Microbial infection) Cleavage, by N.americanus\n",
            "                     apr-2. /evidence=ECO:0000269|PubMed:12552433; propagated\n",
            "                     from UniProtKB/Swiss-Prot (P68871.2); other site\"\n",
            "     misc_feature    5075..5077\n",
            "                     /gene=\"HBB\"\n",
            "                     /gene_synonym=\"beta-globin; CD113t-C; ECYT6\"\n",
            "                     /note=\"N-linked (Glc) (glycation) lysine.\n",
            "                     /evidence=ECO:0000269|PubMed:7358733; propagated from\n",
            "                     UniProtKB/Swiss-Prot (P68871.2); glycosylation site\"\n",
            "     misc_feature    5078..5080\n",
            "                     /gene=\"HBB\"\n",
            "                     /gene_synonym=\"beta-globin; CD113t-C; ECYT6\"\n",
            "                     /note=\"Phosphoserine.\n",
            "                     /evidence=ECO:0007744|PubMed:24275569; propagated from\n",
            "                     UniProtKB/Swiss-Prot (P68871.2); phosphorylation site\"\n",
            "     misc_feature    5087..5089\n",
            "                     /gene=\"HBB\"\n",
            "                     /gene_synonym=\"beta-globin; CD113t-C; ECYT6\"\n",
            "                     /note=\"Phosphothreonine.\n",
            "                     /evidence=ECO:0007744|PubMed:24275569; propagated from\n",
            "                     UniProtKB/Swiss-Prot (P68871.2); phosphorylation site\"\n",
            "     misc_feature    5102..5104\n",
            "                     /gene=\"HBB\"\n",
            "                     /gene_synonym=\"beta-globin; CD113t-C; ECYT6\"\n",
            "                     /note=\"N-linked (Glc) (glycation) lysine.\n",
            "                     /evidence=ECO:0000269|PubMed:7358733; propagated from\n",
            "                     UniProtKB/Swiss-Prot (P68871.2); glycosylation site\"\n",
            "     misc_feature    5126..5131\n",
            "                     /gene=\"HBB\"\n",
            "                     /gene_synonym=\"beta-globin; CD113t-C; ECYT6\"\n",
            "                     /note=\"(Microbial infection) Cleavage, by N.americanus\n",
            "                     apr-2. /evidence=ECO:0000269|PubMed:12552433; propagated\n",
            "                     from UniProtKB/Swiss-Prot (P68871.2); other site\"\n",
            "     misc_feature    join(5138..5142,5273)\n",
            "                     /gene=\"HBB\"\n",
            "                     /gene_synonym=\"beta-globin; CD113t-C; ECYT6\"\n",
            "                     /note=\"(Microbial infection) Cleavage, by N.americanus\n",
            "                     apr-2. /evidence=ECO:0000269|PubMed:12552433; propagated\n",
            "                     from UniProtKB/Swiss-Prot (P68871.2); other site\"\n",
            "     mat_peptide     5277..5306\n",
            "                     /gene=\"HBB\"\n",
            "                     /gene_synonym=\"beta-globin; CD113t-C; ECYT6\"\n",
            "                     /product=\"LVV-hemorphin-7. /id=PRO_0000296641\"\n",
            "                     /note=\"propagated from UniProtKB/Swiss-Prot (P68871.2)\"\n",
            "     mat_peptide     5277..5297\n",
            "                     /gene=\"HBB\"\n",
            "                     /gene_synonym=\"beta-globin; CD113t-C; ECYT6\"\n",
            "                     /product=\"Spinorphin. /id=PRO_0000424226\"\n",
            "                     /note=\"propagated from UniProtKB/Swiss-Prot (P68871.2)\"\n",
            "     misc_feature    5286..5291\n",
            "                     /gene=\"HBB\"\n",
            "                     /gene_synonym=\"beta-globin; CD113t-C; ECYT6\"\n",
            "                     /note=\"(Microbial infection) Cleavage, by N.americanus\n",
            "                     apr-2. /evidence=ECO:0000269|PubMed:12552433; propagated\n",
            "                     from UniProtKB/Swiss-Prot (P68871.2); other site\"\n",
            "     misc_feature    5292..5297\n",
            "                     /gene=\"HBB\"\n",
            "                     /gene_synonym=\"beta-globin; CD113t-C; ECYT6\"\n",
            "                     /note=\"(Microbial infection) Cleavage, by N.americanus\n",
            "                     apr-2. /evidence=ECO:0000269|PubMed:12552433; propagated\n",
            "                     from UniProtKB/Swiss-Prot (P68871.2); other site\"\n",
            "     misc_feature    5313..5315\n",
            "                     /gene=\"HBB\"\n",
            "                     /gene_synonym=\"beta-globin; CD113t-C; ECYT6\"\n",
            "                     /note=\"Phosphoserine.\n",
            "                     /evidence=ECO:0007744|PubMed:24275569; propagated from\n",
            "                     UniProtKB/Swiss-Prot (P68871.2); phosphorylation site\"\n",
            "     misc_feature    5316..5321\n",
            "                     /gene=\"HBB\"\n",
            "                     /gene_synonym=\"beta-globin; CD113t-C; ECYT6\"\n",
            "                     /note=\"(Microbial infection) Cleavage, by N.americanus\n",
            "                     apr-2. /evidence=ECO:0000269|PubMed:12552433; propagated\n",
            "                     from UniProtKB/Swiss-Prot (P68871.2); other site\"\n",
            "     misc_feature    5331..5333\n",
            "                     /gene=\"HBB\"\n",
            "                     /gene_synonym=\"beta-globin; CD113t-C; ECYT6\"\n",
            "                     /note=\"Phosphothreonine.\n",
            "                     /evidence=ECO:0007744|PubMed:24275569; propagated from\n",
            "                     UniProtKB/Swiss-Prot (P68871.2); phosphorylation site\"\n",
            "     misc_feature    5337..5342\n",
            "                     /gene=\"HBB\"\n",
            "                     /gene_synonym=\"beta-globin; CD113t-C; ECYT6\"\n",
            "                     /note=\"(Microbial infection) Cleavage, by N.americanus\n",
            "                     apr-2. /evidence=ECO:0000269|PubMed:12552433; propagated\n",
            "                     from UniProtKB/Swiss-Prot (P68871.2); other site\"\n",
            "     misc_feature    5349..5354\n",
            "                     /gene=\"HBB\"\n",
            "                     /gene_synonym=\"beta-globin; CD113t-C; ECYT6\"\n",
            "                     /note=\"(Microbial infection) Cleavage, by N.americanus\n",
            "                     apr-2. /evidence=ECO:0000269|PubMed:12552433; propagated\n",
            "                     from UniProtKB/Swiss-Prot (P68871.2); other site\"\n",
            "     misc_feature    5358..5360\n",
            "                     /gene=\"HBB\"\n",
            "                     /gene_synonym=\"beta-globin; CD113t-C; ECYT6\"\n",
            "                     /note=\"N6-acetyllysine.\n",
            "                     /evidence=ECO:0000269|PubMed:4531009; propagated from\n",
            "                     UniProtKB/Swiss-Prot (P68871.2); acetylation site\"\n",
            "     misc_feature    5358..5360\n",
            "                     /gene=\"HBB\"\n",
            "                     /gene_synonym=\"beta-globin; CD113t-C; ECYT6\"\n",
            "                     /note=\"Not glycated. /evidence=ECO:0000269|PubMed:7358733;\n",
            "                     propagated from UniProtKB/Swiss-Prot (P68871.2); other\n",
            "                     site\"\n",
            "     misc_feature    5379..5381\n",
            "                     /gene=\"HBB\"\n",
            "                     /gene_synonym=\"beta-globin; CD113t-C; ECYT6\"\n",
            "                     /note=\"N-linked (Glc) (glycation) lysine.\n",
            "                     /evidence=ECO:0000269|PubMed:7358733; propagated from\n",
            "                     UniProtKB/Swiss-Prot (P68871.2); glycosylation site\"\n",
            "     misc_feature    5394..5399\n",
            "                     /gene=\"HBB\"\n",
            "                     /gene_synonym=\"beta-globin; CD113t-C; ECYT6\"\n",
            "                     /note=\"(Microbial infection) Cleavage, by N.americanus\n",
            "                     apr-2. /evidence=ECO:0000269|PubMed:12552433; propagated\n",
            "                     from UniProtKB/Swiss-Prot (P68871.2); other site\"\n",
            "     misc_feature    5403..5408\n",
            "                     /gene=\"HBB\"\n",
            "                     /gene_synonym=\"beta-globin; CD113t-C; ECYT6\"\n",
            "                     /note=\"(Microbial infection) Cleavage, by N.americanus\n",
            "                     apr-2. /evidence=ECO:0000269|PubMed:12552433; propagated\n",
            "                     from UniProtKB/Swiss-Prot (P68871.2); other site\"\n",
            "     misc_feature    5427..5429\n",
            "                     /gene=\"HBB\"\n",
            "                     /gene_synonym=\"beta-globin; CD113t-C; ECYT6\"\n",
            "                     /note=\"N6-acetyllysine.\n",
            "                     /evidence=ECO:0000269|PubMed:4531009; propagated from\n",
            "                     UniProtKB/Swiss-Prot (P68871.2); acetylation site\"\n",
            "     misc_feature    5427..5429\n",
            "                     /gene=\"HBB\"\n",
            "                     /gene_synonym=\"beta-globin; CD113t-C; ECYT6\"\n",
            "                     /note=\"Not glycated. /evidence=ECO:0000269|PubMed:7358733;\n",
            "                     propagated from UniProtKB/Swiss-Prot (P68871.2); other\n",
            "                     site\"\n",
            "     misc_feature    5433..5438\n",
            "                     /gene=\"HBB\"\n",
            "                     /gene_synonym=\"beta-globin; CD113t-C; ECYT6\"\n",
            "                     /note=\"(Microbial infection) Cleavage, by N.americanus\n",
            "                     apr-2. /evidence=ECO:0000269|PubMed:12552433; propagated\n",
            "                     from UniProtKB/Swiss-Prot (P68871.2); other site\"\n",
            "     misc_feature    5442..5444\n",
            "                     /gene=\"HBB\"\n",
            "                     /gene_synonym=\"beta-globin; CD113t-C; ECYT6\"\n",
            "                     /note=\"Phosphothreonine.\n",
            "                     /evidence=ECO:0007744|PubMed:24275569; propagated from\n",
            "                     UniProtKB/Swiss-Prot (P68871.2); phosphorylation site\"\n",
            "     misc_feature    5457..5462\n",
            "                     /gene=\"HBB\"\n",
            "                     /gene_synonym=\"beta-globin; CD113t-C; ECYT6\"\n",
            "                     /note=\"(Microbial infection) Cleavage, by N.americanus\n",
            "                     apr-2. /evidence=ECO:0000269|PubMed:12552433; propagated\n",
            "                     from UniProtKB/Swiss-Prot (P68871.2); other site\"\n",
            "     misc_feature    5466..5468\n",
            "                     /gene=\"HBB\"\n",
            "                     /gene_synonym=\"beta-globin; CD113t-C; ECYT6\"\n",
            "                     /note=\"Not glycated. /evidence=ECO:0000269|PubMed:7358733;\n",
            "                     propagated from UniProtKB/Swiss-Prot (P68871.2); other\n",
            "                     site\"\n",
            "     misc_feature    join(5493..5495,6346..6348)\n",
            "                     /gene=\"HBB\"\n",
            "                     /gene_synonym=\"beta-globin; CD113t-C; ECYT6\"\n",
            "                     /note=\"(Microbial infection) Cleavage, by N.americanus\n",
            "                     apr-2. /evidence=ECO:0000269|PubMed:12552433; propagated\n",
            "                     from UniProtKB/Swiss-Prot (P68871.2); other site\"\n",
            "     misc_feature    6361..6366\n",
            "                     /gene=\"HBB\"\n",
            "                     /gene_synonym=\"beta-globin; CD113t-C; ECYT6\"\n",
            "                     /note=\"(Microbial infection) Cleavage, by N.americanus\n",
            "                     apr-2. /evidence=ECO:0000269|PubMed:12552433; propagated\n",
            "                     from UniProtKB/Swiss-Prot (P68871.2); other site\"\n",
            "     misc_feature    6388..6393\n",
            "                     /gene=\"HBB\"\n",
            "                     /gene_synonym=\"beta-globin; CD113t-C; ECYT6\"\n",
            "                     /note=\"(Microbial infection) Cleavage, by N.americanus\n",
            "                     apr-2. /evidence=ECO:0000269|PubMed:12552433; propagated\n",
            "                     from UniProtKB/Swiss-Prot (P68871.2); other site\"\n",
            "     misc_feature    6391..6393\n",
            "                     /gene=\"HBB\"\n",
            "                     /gene_synonym=\"beta-globin; CD113t-C; ECYT6\"\n",
            "                     /note=\"N-linked (Glc) (glycation) lysine.\n",
            "                     /evidence=ECO:0000269|PubMed:7358733; propagated from\n",
            "                     UniProtKB/Swiss-Prot (P68871.2); glycosylation site\"\n",
            "     misc_feature    6397..6402\n",
            "                     /gene=\"HBB\"\n",
            "                     /gene_synonym=\"beta-globin; CD113t-C; ECYT6\"\n",
            "                     /note=\"(Microbial infection) Cleavage, by N.americanus\n",
            "                     apr-2. /evidence=ECO:0000269|PubMed:12552433; propagated\n",
            "                     from UniProtKB/Swiss-Prot (P68871.2); other site\"\n",
            "     misc_feature    6415..6420\n",
            "                     /gene=\"HBB\"\n",
            "                     /gene_synonym=\"beta-globin; CD113t-C; ECYT6\"\n",
            "                     /note=\"(Microbial infection) Cleavage, by N.americanus\n",
            "                     apr-2. /evidence=ECO:0000269|PubMed:12552433; propagated\n",
            "                     from UniProtKB/Swiss-Prot (P68871.2); other site\"\n",
            "     misc_feature    6451..6456\n",
            "                     /gene=\"HBB\"\n",
            "                     /gene_synonym=\"beta-globin; CD113t-C; ECYT6\"\n",
            "                     /note=\"(Microbial infection) Cleavage, by N.americanus\n",
            "                     apr-2. /evidence=ECO:0000269|PubMed:12552433; propagated\n",
            "                     from UniProtKB/Swiss-Prot (P68871.2); other site\"\n",
            "     misc_feature    6463..6468\n",
            "                     /gene=\"HBB\"\n",
            "                     /gene_synonym=\"beta-globin; CD113t-C; ECYT6\"\n",
            "                     /note=\"(Microbial infection) Cleavage, by N.americanus\n",
            "                     apr-2. /evidence=ECO:0000269|PubMed:12552433; propagated\n",
            "                     from UniProtKB/Swiss-Prot (P68871.2); other site\"\n",
            "     misc_feature    6463..6465\n",
            "                     /gene=\"HBB\"\n",
            "                     /gene_synonym=\"beta-globin; CD113t-C; ECYT6\"\n",
            "                     /note=\"N-linked (Glc) (glycation) lysine, alternate.\n",
            "                     /evidence=ECO:0000269|PubMed:7358733; propagated from\n",
            "                     UniProtKB/Swiss-Prot (P68871.2); glycosylation site\"\n",
            "     misc_feature    6463..6465\n",
            "                     /gene=\"HBB\"\n",
            "                     /gene_synonym=\"beta-globin; CD113t-C; ECYT6\"\n",
            "                     /note=\"N6-acetyllysine, alternate.\n",
            "                     /evidence=ECO:0000269|PubMed:4531009; propagated from\n",
            "                     UniProtKB/Swiss-Prot (P68871.2); acetylation site\"\n",
            "     exon            5273..5495\n",
            "                     /gene=\"HBB\"\n",
            "                     /gene_synonym=\"beta-globin; CD113t-C; ECYT6\"\n",
            "                     /inference=\"alignment:Splign:2.1.0\"\n",
            "                     /number=2\n",
            "     exon            6346..6608\n",
            "                     /gene=\"HBB\"\n",
            "                     /gene_synonym=\"beta-globin; CD113t-C; ECYT6\"\n",
            "                     /inference=\"alignment:Splign:2.1.0\"\n",
            "                     /number=3\n",
            "ORIGIN      \n",
            "        1 aacgaatgag taaatgagta aatgaaggaa tgattattcc ttgctttaga acttctggaa\n",
            "       61 ttagaggaca atattaataa taccatcgca cagtgtttct ttgttgttaa tgctacaaca\n",
            "      121 tacaaagagg aagcatgcag taaacaaccg aacagttatt tcctttctga tcataggagt\n",
            "      181 aatatttttt tccttgagca ccatttttgc cataggtaaa attagaagga tttttagaac\n",
            "      241 tttctcagtt gtatacattt ttaaaaatct gtattatatg catgttgatt aattttaaac\n",
            "      301 ttacttgaat acctaaacag aatctgttgt ttccttgtgt ttgaaagtgc tttcacagta\n",
            "      361 actctgtctg tactgccaga atatactgac aatgtgttat agttaactgt tttgatcaca\n",
            "      421 acattttgaa ttgactggca gcagaagctc ttttatatcc atgtgttttc cttaagtcat\n",
            "      481 tatacatagt aggcactgag aactctttat atctgaataa gatatttagg aaccactggt\n",
            "      541 ttacatatca gaagcagagc tactcagggc attttgggga agatcacttt cacattcctg\n",
            "      601 agcataggga agttctcata agagtaagat attaaaagga gatacttgtg tggtattcga\n",
            "      661 aagacagtaa gagagattgt agaccttatg atcttgatag ggaaaacaaa ctacattcct\n",
            "      721 ttctccaaaa gtcaaaaaaa aagagcaaat atagcttact ataccttcta ttcctacacc\n",
            "      781 attagaagta gtcagtgagt ctaggcaaga tgttggccct aaaaatccaa ataccagaga\n",
            "      841 attcatgaga acatcacctg gatgggacat gtgccgagca cacacaatta ctatatgcta\n",
            "      901 ggcattgcta tcttcatatt gaagatgagg aggtcaagag atgaaaaaag acttggcacc\n",
            "      961 ttgttgttat attaaaatta tttgttagag tagagctttt gtaagagtct aggagtgtgg\n",
            "     1021 gagctaaatg atgatacaca tggacacaaa aaatagatca acagacaccc aggcctactt\n",
            "     1081 gagggttgag ggtgggaaga gggagacgat gaaaaagaac ctattgggta ttaagttcat\n",
            "     1141 cactgagtga tgaaataatc tgtacatcaa gacccagtga tatgcaattt acctatataa\n",
            "     1201 cttgtacatg tacccccaaa tttaaaatga aagttaaaac aaagtatagg aatggaatta\n",
            "     1261 attcctcaag atttggcttt aattttattt gataatttat caaatggttg tttttctttt\n",
            "     1321 ctcactatgg cgttgcttta taaactatgt tcagtatgtc tgaatgaaag ggtgtgtgtg\n",
            "     1381 tgtgtgaaag agagggagag aggaagggaa gagaggacgt aataatgtga atttgagttc\n",
            "     1441 atgaaaattt ttcaataaaa taatttaatg tcaggagaat taagcctaat agtctcctaa\n",
            "     1501 atcatccatc tcttgagctt cagagcagtc ctctgaatta atgcctacat gtttgtaaag\n",
            "     1561 ggtgttcaga ctgaagccaa gattctacct ctaaagagat gcaatctcaa atttatctga\n",
            "     1621 agactgtacc tctgctctcc ataaattgac accatggccc acttaatgag gttaaaaaaa\n",
            "     1681 agctaattct gaatgaaaat ctgagcccag tggaggaaat attaatgaac aaggtgcaga\n",
            "     1741 ctgaaatata aatttttctg taataattat gcatatactt tagcaaagtt ctgtctatgt\n",
            "     1801 tgactttatt gctttttggt aagaaataca actttttaaa gtgaactaaa ctatcctatt\n",
            "     1861 tccaaactat tttgtgtgtg tgcggtttgt ttctatgggt tctggttttc ttggagcatt\n",
            "     1921 tttatttcat tttaattaat taattctgag agctgctgag ttgtgtttac tgagagattg\n",
            "     1981 tgtatctgcg agagaagtct gtagcaagta gctagactgt gcttgaccta ggaacatata\n",
            "     2041 cagtagattg ctaaaatgtc tcacttgggg aattttagac taaacagtag agcatgtata\n",
            "     2101 aaaatactct agtcaagtgc tgcttttgaa acaaatgata aaaccacact cccatagatg\n",
            "     2161 agtgtcatga ttttcatgga ggaagttaat attcatcctc taagtatacc cagactaggg\n",
            "     2221 ccattctgat ataaaacatt aggacttaag aaagattaat agactggagt aaaggaaatg\n",
            "     2281 gacctctgtc tctctcgctg tctctttttt gaggacttgt gtgtgtgtgt gtgtgtgtgt\n",
            "     2341 gtgtgtgtgt gttgtggtca gtggggctgg aataaaagta gaatagacct gcacctgctg\n",
            "     2401 tggcatccat tcacagagta gaagcaagct cacaatagtg aagatgtcag taagcttgaa\n",
            "     2461 tagtttttca ggaactttga atgctgattt agatttgaaa ctgaggctct gaccataacc\n",
            "     2521 aaatttgcac tatttattgc ttcttgaaac ttatttgcct ggtatgcctg ggcttttgat\n",
            "     2581 ggtcttagta tagcttgcag ccttgtccct gcagggtatt atgggtaata gaaagaaaag\n",
            "     2641 tctgcgttac actctagtca cactaagtaa ctaccattgg aaaagcaacc cctgccttga\n",
            "     2701 agccaggatg atggtatctg cagcagttgc caacacaaga gaaggatcca tagttcatca\n",
            "     2761 tttaaaaaag aaaacaaaat agaaaaagga aaactatttc tgagcataag aagttgtagg\n",
            "     2821 gtaagtcttt aagaaggtga caatttctgc caatcaggat ttcaaagctc ttgctttgac\n",
            "     2881 aattttggtc tttcagaata ctataaatat aacctatatt ataatttcat aaagtctgtg\n",
            "     2941 cattttcttt gacccaggat atttgcaaaa gacatattca aacttccgca gaacacttta\n",
            "     3001 tttcacatat acatgcctct tatatcaggg atgtgaaaca gggtcttgaa aactgtctaa\n",
            "     3061 atctaaaaca atgctaatgc aggtttaaat ttaataaaat aaaatccaaa atctaacagc\n",
            "     3121 caagtcaaat ctgcatgttt taacatttaa aatattttaa agacgtcttt tcccaggatt\n",
            "     3181 caacatgtga aatcttttct cagggataca cgtgtgccta gatcctcatt gctttagttt\n",
            "     3241 tttacagagg aatgaatata aaaagaaaat acttaaattt tatccctctt acctctataa\n",
            "     3301 tcatacatag gcataatttt ttaacctagg ctccagatag ccatagaaga accaaacact\n",
            "     3361 ttctgcgtgt gtgagaataa tcagagtgag attttttcac aagtacctga tgagggttga\n",
            "     3421 gacaggtaga aaaagtgaga gatctctatt tatttagcaa taatagagaa agcatttaag\n",
            "     3481 agaataaagc aatggaaata agaaatttgt aaatttcctt ctgataacta gaaatagagg\n",
            "     3541 atccagtttc ttttggttaa cctaaatttt atttcatttt attgttttat tttattttat\n",
            "     3601 tttattttat tttgtgtaat cgtagtttca gagtgttaga gctgaaagga agaagtagga\n",
            "     3661 gaaacatgca aagtaaaagt ataacacttt ccttactaaa ccgacatggg tttccaggta\n",
            "     3721 ggggcaggat tcaggatgac tgacagggcc cttagggaac actgagaccc tacgctgacc\n",
            "     3781 tcataaatgc ttgctacctt tgctgtttta attacatctt ttaatagcag gaagcagaac\n",
            "     3841 tctgcacttc aaaagttttt cctcacctga ggagttaatt tagtacaagg ggaaaaagta\n",
            "     3901 cagggggatg ggagaaaggc gatcacgttg ggaagctata gagaaagaag agtaaatttt\n",
            "     3961 agtaaaggag gtttaaacaa acaaaatata aagagaaata ggaacttgaa tcaaggaaat\n",
            "     4021 gattttaaaa cgcagtattc ttagtggact agaggaaaaa aataatctga gccaagtaga\n",
            "     4081 agaccttttc ccctcctacc cctactttct aagtcacaga ggctttttgt tcccccagac\n",
            "     4141 actcttgcag attagtccag gcagaaacag ttagatgtcc ccagttaacc tcctatttga\n",
            "     4201 caccactgat taccccattg atagtcacac tttgggttgt aagtgacttt ttatttattt\n",
            "     4261 gtatttttga ctgcattaag aggtctctag ttttttatct cttgtttccc aaaacctaat\n",
            "     4321 aagtaactaa tgcacagagc acattgattt gtatttattc tatttttaga cataatttat\n",
            "     4381 tagcatgcat gagcaaatta agaaaaacaa caacaaatga atgcatatat atgtatatgt\n",
            "     4441 atgtgtgtat atatacacac atatatatat atattttttc ttttcttacc agaaggtttt\n",
            "     4501 aatccaaata aggagaagat atgcttagaa ccgaggtaga gttttcatcc attctgtcct\n",
            "     4561 gtaagtattt tgcatattct ggagacgcag gaagagatcc atctacatat cccaaagctg\n",
            "     4621 aattatggta gacaaaactc ttccactttt agtgcatcaa cttcttattt gtgtaataag\n",
            "     4681 aaaattggga aaacgatctt caatatgctt accaagctgt gattccaaat attacgtaaa\n",
            "     4741 tacacttgca aaggaggatg tttttagtag caatttgtac tgatggtatg gggccaagag\n",
            "     4801 atatatctta gagggagggc tgagggtttg aagtccaact cctaagccag tgccagaaga\n",
            "     4861 gccaaggaca ggtacggctg tcatcactta gacctcaccc tgtggagcca caccctaggg\n",
            "     4921 ttggccaatc tactcccagg agcagggagg gcaggagcca gggctgggca taaaagtcag\n",
            "     4981 ggcagagcca tctattgctt acatttgctt ctgacacaac tgtgttcact agcaacctca\n",
            "     5041 aacagacacc atggtgcatc tgactcctga ggagaagtct gccgttactg ccctgtgggg\n",
            "     5101 caaggtgaac gtggatgaag ttggtggtga ggccctgggc aggttggtat caaggttaca\n",
            "     5161 agacaggttt aaggagacca atagaaactg ggcatgtgga gacagagaag actcttgggt\n",
            "     5221 ttctgatagg cactgactct ctctgcctat tggtctattt tcccaccctt aggctgctgg\n",
            "     5281 tggtctaccc ttggacccag aggttctttg agtcctttgg ggatctgtcc actcctgatg\n",
            "     5341 ctgttatggg caaccctaag gtgaaggctc atggcaagaa agtgctcggt gcctttagtg\n",
            "     5401 atggcctggc tcacctggac aacctcaagg gcacctttgc cacactgagt gagctgcact\n",
            "     5461 gtgacaagct gcacgtggat cctgagaact tcagggtgag tctatgggac gcttgatgtt\n",
            "     5521 ttctttcccc ttcttttcta tggttaagtt catgtcatag gaaggggata agtaacaggg\n",
            "     5581 tacagtttag aatgggaaac agacgaatga ttgcatcagt gtggaagtct caggatcgtt\n",
            "     5641 ttagtttctt ttatttgctg ttcataacaa ttgttttctt ttgtttaatt cttgctttct\n",
            "     5701 ttttttttct tctccgcaat ttttactatt atacttaatg ccttaacatt gtgtataaca\n",
            "     5761 aaaggaaata tctctgagat acattaagta acttaaaaaa aaactttaca cagtctgcct\n",
            "     5821 agtacattac tatttggaat atatgtgtgc ttatttgcat attcataatc tccctacttt\n",
            "     5881 attttctttt atttttaatt gatacataat cattatacat atttatgggt taaagtgtaa\n",
            "     5941 tgttttaata tgtgtacaca tattgaccaa atcagggtaa ttttgcattt gtaattttaa\n",
            "     6001 aaaatgcttt cttcttttaa tatacttttt tgtttatctt atttctaata ctttccctaa\n",
            "     6061 tctctttctt tcagggcaat aatgatacaa tgtatcatgc ctctttgcac cattctaaag\n",
            "     6121 aataacagtg ataatttctg ggttaaggca atagcaatat ctctgcatat aaatatttct\n",
            "     6181 gcatataaat tgtaactgat gtaagaggtt tcatattgct aatagcagct acaatccagc\n",
            "     6241 taccattctg cttttatttt atggttggga taaggctgga ttattctgag tccaagctag\n",
            "     6301 gcccttttgc taatcatgtt catacctctt atcttcctcc cacagctcct gggcaacgtg\n",
            "     6361 ctggtctgtg tgctggccca tcactttggc aaagaattca ccccaccagt gcaggctgcc\n",
            "     6421 tatcagaaag tggtggctgg tgtggctaat gccctggccc acaagtatca ctaagctcgc\n",
            "     6481 tttcttgctg tccaatttct attaaaggtt cctttgttcc ctaagtccaa ctactaaact\n",
            "     6541 gggggatatt atgaagggcc ttgagcatct ggattctgcc taataaaaaa catttatttt\n",
            "     6601 cattgcaatg atgtatttaa attatttctg aatattttac taaaaaggga atgtgggagg\n",
            "     6661 tcagtgcatt taaaacataa agaaatgaag agctagttca aaccttggga aaatacacta\n",
            "     6721 tatcttaaac tccatgaaag aaggtgaggc tgcaaacagc taatgcacat tggcaacagc\n",
            "     6781 ccctgatgca tatgccttat tcatccctca gaaaaggatt caagtagagg cttgatttgg\n",
            "     6841 aggttaaagt tttgctatgc tgtattttac attacttatt gttttagctg tcctcatgaa\n",
            "     6901 tgtcttttca ctacccattt gcttatcctg catctctcag ccttgactcc actcagttct\n",
            "     6961 cttgcttaga gataccacct ttcccctgaa gtgttccttc catgttttac ggcgagatgg\n",
            "     7021 tttctcctcg cctggccact cagccttagt tgtctctgtt gtcttataga ggtctacttg\n",
            "     7081 aagaaggaaa aacaggggtc atggtttgac tgtcctgtga gcccttcttc cctgcctccc\n",
            "     7141 ccactcacag tgacccggaa tctgcagtgc tagtctcccg gaactatcac tctttcacag\n",
            "     7201 tctgctttgg aaggactggg cttagtatga aaagttagga ctgagaagaa tttgaaaggc\n",
            "     7261 ggctttttgt agcttgatat tcactactgt cttattaccc tgtcataggc ccaccccaaa\n",
            "     7321 tggaagtccc attcttcctc aggatgttta agattagcat tcaggaagag atcagaggtc\n",
            "     7381 tgctggctcc cttatcatgt cccttatggt gcttctggct ctgcagttat tagcatagtg\n",
            "     7441 ttaccatcaa ccaccttaac ttcatttttc ttattcaata cctaggtagg tagatgctag\n",
            "     7501 attctggaaa taaaatatga gtctcaagtg gtccttgtcc tctctcccag tcaaattctg\n",
            "     7561 aatctagttg gcaagattct gaaatcaagg catataatca gtaataagtg atgatagaag\n",
            "     7621 ggtatataga agaattttat tatatgagag ggtgaaaccc tcaaaatgaa atgaaatcag\n",
            "     7681 acccttgtct tacaccataa acaaaaataa atttgaatgg gttaaagaat taaactaaga\n",
            "     7741 cctaaaacca taaaaatttt taaagaaatc aaaagaagaa aattctaata ttcacgttgc\n",
            "     7801 agccgttttt tgaatttgat atgagaagca aaggcaacaa aaggaaaaat aaagaagtga\n",
            "     7861 ggctacatca aactaaaaaa tttccacaca aaaaacaaaa caatgaacaa atgaaaggtg\n",
            "     7921 aaccatgaaa tggcatattt gcaaaccaaa tatttcttaa atattttggt taatatccaa\n",
            "     7981 aatatataag aaacacagat gattcaataa caaacaaaaa attaaaaata ggaaaataaa\n",
            "     8041 aaaattaaaa agaagaaaat cctgccattt atggcagaat tgatgaacct ggaggatgta\n",
            "     8101 aaactaagaa aaataagcct gacacaaaaa gacaaatact acacaacctt gctcatatgt\n",
            "     8161 gaaacataaa aaagtcactc tcatggaaac agacagtaga ggtatggttt ccaggggttg\n",
            "     8221 ggggtgggag aatcaggaaa ctattactca aagggtataa aatttcagtt atgtgggatg\n",
            "     8281 aataaattct agatatctaa tgtacagcat cgtgactgta gttaattgta ctgtaagtat\n",
            "     8341 atttaaaatt tgcaaagaga gtagattttt tttttttttt agatggagtt ttgctcttgt\n",
            "     8401 tgtccaggct ggagtgcaat ggcaagatct tggctcactg caacctccgc ctcctgggtt\n",
            "     8461 caagcaaatc tcctgcctca gcctcccgag tagctgggat tacaggcatg cgacaccatg\n",
            "     8521 cccagctaat tttgtatttt tagtagagac ggggtttctc catgttggtc aggctgatcc\n",
            "     8581 gcctgcctcg gccacccaaa gggctgggat tacaggcgtg agccaccggg cctggccgag\n",
            "     8641 agtagatctt aaaagcattt accacaagaa aaaggtaact atgtgagata atgggtatgt\n",
            "     8701 taattagctt gattgtggta atcatttcac aaggtataca tatattaaaa catcatgttg\n",
            "     8761 tacaccttaa atatatacaa tttttatttg tgaatgatac ctcaataaag ttgaagaata\n",
            "     8821 ataaaaaaga atagacatca catgaattaa aaaactaaaa aataaaaaaa tgcatcttga\n",
            "     8881 tgattagaat tgcattcttg atttttcaga tacaaatatc catttgactg tttactcttt\n",
            "     8941 tccaaaacaa tacaataaat tttagcactt tatcttcatt ttccccttcc caatctataa\n",
            "     9001 ttatatatat atatatttta gatattttgt atagttttac tccctagatt ttctagtgtt\n",
            "     9061 attattaaat agtgaagaaa tgtttacact tatgtacaaa atgttttgca tgcttttctt\n",
            "     9121 catttctaac attctctcta agtttattct atttttttct gattatcctt aatattatct\n",
            "     9181 ctttctgctg gaaatacatt gttacttttg gtttatctaa aaatggcttc attttcttca\n",
            "     9241 ttctaaaatc atgttaaatt aataccactc atgtgtaagt aagatagtgg aataaataga\n",
            "     9301 aatccaaaaa ctaaatctca ctaaaatata ataatgtgat atataaaaat atagctttta\n",
            "     9361 aatttagctt ggaaataaaa aacaaacagt aattgaacaa ctatactttt tgaaaagagt\n",
            "     9421 aaagtgaaat gcttaactgc atataccaca atcgattaca caattaggtg tgaaggtaaa\n",
            "     9481 attcagtcac gaaaaaacta gaataaaaat atgggaagac atgtatataa tcttagagat\n",
            "     9541 aacactgtta tttaattatc aacccaaagt agaaactatc aagggagaaa taaattcagt\n",
            "     9601 caacaataaa agcatttaag aagttattct aggctgggag cggtggctca cacctgcaat\n",
            "     9661 tgcagcactt tgggaggcct agacaggcgg atcacgacgt caggagttca agatcagcct\n",
            "     9721 ggccaacata gtgaaacctc atcgctacta aaaatataaa aacttagcct ggcgtggtgg\n",
            "     9781 caggcatgtg taatcccagc aatttgggag gctgaggcag gagaatcgct tgatcctggg\n",
            "     9841 aggcagaggt tgcagtgagc caagattgtg ccactgcatt ccagcccagg tgacagcatg\n",
            "     9901 agactccgtc acaaaaaaaa aagaaaaaaa aaaggggggg gggagcggtg gagccaagat\n",
            "     9961 gaccgaatag gaacagctcc agtctatagc tcccatcgtg agtgacgcag aagacgggtg\n",
            "    10021 atttctgcat ttccaactga ggtaccaggt tcatctcaca gggaagtgcc aggcagtggg\n",
            "    10081 tgcaggacag taggtgcagt gcactg\n",
            "//\n",
            "\n",
            "\n",
            "Gene ID: NG_059281.1\n",
            "Description: Homo sapiens hemoglobin subunit beta (HBB), RefSeqGene (LRG_1232) on chromosome 11\n",
            "Sequence: AACGAATGAGTAAATGAGTAAATGAAGGAATGATTATTCCTTGCTTTAGAACTTCTGGAATTAGAGGACAATATTAATAATACCATCGCACAGTGTTTCTTTGTTGTTAATGCTACAACATACAAAGAGGAAGCATGCAGTAAACAACCGAACAGTTATTTCCTTTCTGATCATAGGAGTAATATTTTTTTCCTTGAGCACCATTTTTGCCATAGGTAAAATTAGAAGGATTTTTAGAACTTTCTCAGTTGTATACATTTTTAAAAATCTGTATTATATGCATGTTGATTAATTTTAAACTTACTTGAATACCTAAACAGAATCTGTTGTTTCCTTGTGTTTGAAAGTGCTTTCACAGTAACTCTGTCTGTACTGCCAGAATATACTGACAATGTGTTATAGTTAACTGTTTTGATCACAACATTTTGAATTGACTGGCAGCAGAAGCTCTTTTATATCCATGTGTTTTCCTTAAGTCATTATACATAGTAGGCACTGAGAACTCTTTATATCTGAATAAGATATTTAGGAACCACTGGTTTACATATCAGAAGCAGAGCTACTCAGGGCATTTTGGGGAAGATCACTTTCACATTCCTGAGCATAGGGAAGTTCTCATAAGAGTAAGATATTAAAAGGAGATACTTGTGTGGTATTCGAAAGACAGTAAGAGAGATTGTAGACCTTATGATCTTGATAGGGAAAACAAACTACATTCCTTTCTCCAAAAGTCAAAAAAAAAGAGCAAATATAGCTTACTATACCTTCTATTCCTACACCATTAGAAGTAGTCAGTGAGTCTAGGCAAGATGTTGGCCCTAAAAATCCAAATACCAGAGAATTCATGAGAACATCACCTGGATGGGACATGTGCCGAGCACACACAATTACTATATGCTAGGCATTGCTATCTTCATATTGAAGATGAGGAGGTCAAGAGATGAAAAAAGACTTGGCACCTTGTTGTTATATTAAAATTATTTGTTAGAGTAGAGCTTTTGTAAGAGTCTAGGAGTGTGGGAGCTAAATGATGATACACATGGACACAAAAAATAGATCAACAGACACCCAGGCCTACTTGAGGGTTGAGGGTGGGAAGAGGGAGACGATGAAAAAGAACCTATTGGGTATTAAGTTCATCACTGAGTGATGAAATAATCTGTACATCAAGACCCAGTGATATGCAATTTACCTATATAACTTGTACATGTACCCCCAAATTTAAAATGAAAGTTAAAACAAAGTATAGGAATGGAATTAATTCCTCAAGATTTGGCTTTAATTTTATTTGATAATTTATCAAATGGTTGTTTTTCTTTTCTCACTATGGCGTTGCTTTATAAACTATGTTCAGTATGTCTGAATGAAAGGGTGTGTGTGTGTGTGAAAGAGAGGGAGAGAGGAAGGGAAGAGAGGACGTAATAATGTGAATTTGAGTTCATGAAAATTTTTCAATAAAATAATTTAATGTCAGGAGAATTAAGCCTAATAGTCTCCTAAATCATCCATCTCTTGAGCTTCAGAGCAGTCCTCTGAATTAATGCCTACATGTTTGTAAAGGGTGTTCAGACTGAAGCCAAGATTCTACCTCTAAAGAGATGCAATCTCAAATTTATCTGAAGACTGTACCTCTGCTCTCCATAAATTGACACCATGGCCCACTTAATGAGGTTAAAAAAAAGCTAATTCTGAATGAAAATCTGAGCCCAGTGGAGGAAATATTAATGAACAAGGTGCAGACTGAAATATAAATTTTTCTGTAATAATTATGCATATACTTTAGCAAAGTTCTGTCTATGTTGACTTTATTGCTTTTTGGTAAGAAATACAACTTTTTAAAGTGAACTAAACTATCCTATTTCCAAACTATTTTGTGTGTGTGCGGTTTGTTTCTATGGGTTCTGGTTTTCTTGGAGCATTTTTATTTCATTTTAATTAATTAATTCTGAGAGCTGCTGAGTTGTGTTTACTGAGAGATTGTGTATCTGCGAGAGAAGTCTGTAGCAAGTAGCTAGACTGTGCTTGACCTAGGAACATATACAGTAGATTGCTAAAATGTCTCACTTGGGGAATTTTAGACTAAACAGTAGAGCATGTATAAAAATACTCTAGTCAAGTGCTGCTTTTGAAACAAATGATAAAACCACACTCCCATAGATGAGTGTCATGATTTTCATGGAGGAAGTTAATATTCATCCTCTAAGTATACCCAGACTAGGGCCATTCTGATATAAAACATTAGGACTTAAGAAAGATTAATAGACTGGAGTAAAGGAAATGGACCTCTGTCTCTCTCGCTGTCTCTTTTTTGAGGACTTGTGTGTGTGTGTGTGTGTGTGTGTGTGTGTGTGTTGTGGTCAGTGGGGCTGGAATAAAAGTAGAATAGACCTGCACCTGCTGTGGCATCCATTCACAGAGTAGAAGCAAGCTCACAATAGTGAAGATGTCAGTAAGCTTGAATAGTTTTTCAGGAACTTTGAATGCTGATTTAGATTTGAAACTGAGGCTCTGACCATAACCAAATTTGCACTATTTATTGCTTCTTGAAACTTATTTGCCTGGTATGCCTGGGCTTTTGATGGTCTTAGTATAGCTTGCAGCCTTGTCCCTGCAGGGTATTATGGGTAATAGAAAGAAAAGTCTGCGTTACACTCTAGTCACACTAAGTAACTACCATTGGAAAAGCAACCCCTGCCTTGAAGCCAGGATGATGGTATCTGCAGCAGTTGCCAACACAAGAGAAGGATCCATAGTTCATCATTTAAAAAAGAAAACAAAATAGAAAAAGGAAAACTATTTCTGAGCATAAGAAGTTGTAGGGTAAGTCTTTAAGAAGGTGACAATTTCTGCCAATCAGGATTTCAAAGCTCTTGCTTTGACAATTTTGGTCTTTCAGAATACTATAAATATAACCTATATTATAATTTCATAAAGTCTGTGCATTTTCTTTGACCCAGGATATTTGCAAAAGACATATTCAAACTTCCGCAGAACACTTTATTTCACATATACATGCCTCTTATATCAGGGATGTGAAACAGGGTCTTGAAAACTGTCTAAATCTAAAACAATGCTAATGCAGGTTTAAATTTAATAAAATAAAATCCAAAATCTAACAGCCAAGTCAAATCTGCATGTTTTAACATTTAAAATATTTTAAAGACGTCTTTTCCCAGGATTCAACATGTGAAATCTTTTCTCAGGGATACACGTGTGCCTAGATCCTCATTGCTTTAGTTTTTTACAGAGGAATGAATATAAAAAGAAAATACTTAAATTTTATCCCTCTTACCTCTATAATCATACATAGGCATAATTTTTTAACCTAGGCTCCAGATAGCCATAGAAGAACCAAACACTTTCTGCGTGTGTGAGAATAATCAGAGTGAGATTTTTTCACAAGTACCTGATGAGGGTTGAGACAGGTAGAAAAAGTGAGAGATCTCTATTTATTTAGCAATAATAGAGAAAGCATTTAAGAGAATAAAGCAATGGAAATAAGAAATTTGTAAATTTCCTTCTGATAACTAGAAATAGAGGATCCAGTTTCTTTTGGTTAACCTAAATTTTATTTCATTTTATTGTTTTATTTTATTTTATTTTATTTTATTTTGTGTAATCGTAGTTTCAGAGTGTTAGAGCTGAAAGGAAGAAGTAGGAGAAACATGCAAAGTAAAAGTATAACACTTTCCTTACTAAACCGACATGGGTTTCCAGGTAGGGGCAGGATTCAGGATGACTGACAGGGCCCTTAGGGAACACTGAGACCCTACGCTGACCTCATAAATGCTTGCTACCTTTGCTGTTTTAATTACATCTTTTAATAGCAGGAAGCAGAACTCTGCACTTCAAAAGTTTTTCCTCACCTGAGGAGTTAATTTAGTACAAGGGGAAAAAGTACAGGGGGATGGGAGAAAGGCGATCACGTTGGGAAGCTATAGAGAAAGAAGAGTAAATTTTAGTAAAGGAGGTTTAAACAAACAAAATATAAAGAGAAATAGGAACTTGAATCAAGGAAATGATTTTAAAACGCAGTATTCTTAGTGGACTAGAGGAAAAAAATAATCTGAGCCAAGTAGAAGACCTTTTCCCCTCCTACCCCTACTTTCTAAGTCACAGAGGCTTTTTGTTCCCCCAGACACTCTTGCAGATTAGTCCAGGCAGAAACAGTTAGATGTCCCCAGTTAACCTCCTATTTGACACCACTGATTACCCCATTGATAGTCACACTTTGGGTTGTAAGTGACTTTTTATTTATTTGTATTTTTGACTGCATTAAGAGGTCTCTAGTTTTTTATCTCTTGTTTCCCAAAACCTAATAAGTAACTAATGCACAGAGCACATTGATTTGTATTTATTCTATTTTTAGACATAATTTATTAGCATGCATGAGCAAATTAAGAAAAACAACAACAAATGAATGCATATATATGTATATGTATGTGTGTATATATACACACATATATATATATATTTTTTCTTTTCTTACCAGAAGGTTTTAATCCAAATAAGGAGAAGATATGCTTAGAACCGAGGTAGAGTTTTCATCCATTCTGTCCTGTAAGTATTTTGCATATTCTGGAGACGCAGGAAGAGATCCATCTACATATCCCAAAGCTGAATTATGGTAGACAAAACTCTTCCACTTTTAGTGCATCAACTTCTTATTTGTGTAATAAGAAAATTGGGAAAACGATCTTCAATATGCTTACCAAGCTGTGATTCCAAATATTACGTAAATACACTTGCAAAGGAGGATGTTTTTAGTAGCAATTTGTACTGATGGTATGGGGCCAAGAGATATATCTTAGAGGGAGGGCTGAGGGTTTGAAGTCCAACTCCTAAGCCAGTGCCAGAAGAGCCAAGGACAGGTACGGCTGTCATCACTTAGACCTCACCCTGTGGAGCCACACCCTAGGGTTGGCCAATCTACTCCCAGGAGCAGGGAGGGCAGGAGCCAGGGCTGGGCATAAAAGTCAGGGCAGAGCCATCTATTGCTTACATTTGCTTCTGACACAACTGTGTTCACTAGCAACCTCAAACAGACACCATGGTGCATCTGACTCCTGAGGAGAAGTCTGCCGTTACTGCCCTGTGGGGCAAGGTGAACGTGGATGAAGTTGGTGGTGAGGCCCTGGGCAGGTTGGTATCAAGGTTACAAGACAGGTTTAAGGAGACCAATAGAAACTGGGCATGTGGAGACAGAGAAGACTCTTGGGTTTCTGATAGGCACTGACTCTCTCTGCCTATTGGTCTATTTTCCCACCCTTAGGCTGCTGGTGGTCTACCCTTGGACCCAGAGGTTCTTTGAGTCCTTTGGGGATCTGTCCACTCCTGATGCTGTTATGGGCAACCCTAAGGTGAAGGCTCATGGCAAGAAAGTGCTCGGTGCCTTTAGTGATGGCCTGGCTCACCTGGACAACCTCAAGGGCACCTTTGCCACACTGAGTGAGCTGCACTGTGACAAGCTGCACGTGGATCCTGAGAACTTCAGGGTGAGTCTATGGGACGCTTGATGTTTTCTTTCCCCTTCTTTTCTATGGTTAAGTTCATGTCATAGGAAGGGGATAAGTAACAGGGTACAGTTTAGAATGGGAAACAGACGAATGATTGCATCAGTGTGGAAGTCTCAGGATCGTTTTAGTTTCTTTTATTTGCTGTTCATAACAATTGTTTTCTTTTGTTTAATTCTTGCTTTCTTTTTTTTTCTTCTCCGCAATTTTTACTATTATACTTAATGCCTTAACATTGTGTATAACAAAAGGAAATATCTCTGAGATACATTAAGTAACTTAAAAAAAAACTTTACACAGTCTGCCTAGTACATTACTATTTGGAATATATGTGTGCTTATTTGCATATTCATAATCTCCCTACTTTATTTTCTTTTATTTTTAATTGATACATAATCATTATACATATTTATGGGTTAAAGTGTAATGTTTTAATATGTGTACACATATTGACCAAATCAGGGTAATTTTGCATTTGTAATTTTAAAAAATGCTTTCTTCTTTTAATATACTTTTTTGTTTATCTTATTTCTAATACTTTCCCTAATCTCTTTCTTTCAGGGCAATAATGATACAATGTATCATGCCTCTTTGCACCATTCTAAAGAATAACAGTGATAATTTCTGGGTTAAGGCAATAGCAATATCTCTGCATATAAATATTTCTGCATATAAATTGTAACTGATGTAAGAGGTTTCATATTGCTAATAGCAGCTACAATCCAGCTACCATTCTGCTTTTATTTTATGGTTGGGATAAGGCTGGATTATTCTGAGTCCAAGCTAGGCCCTTTTGCTAATCATGTTCATACCTCTTATCTTCCTCCCACAGCTCCTGGGCAACGTGCTGGTCTGTGTGCTGGCCCATCACTTTGGCAAAGAATTCACCCCACCAGTGCAGGCTGCCTATCAGAAAGTGGTGGCTGGTGTGGCTAATGCCCTGGCCCACAAGTATCACTAAGCTCGCTTTCTTGCTGTCCAATTTCTATTAAAGGTTCCTTTGTTCCCTAAGTCCAACTACTAAACTGGGGGATATTATGAAGGGCCTTGAGCATCTGGATTCTGCCTAATAAAAAACATTTATTTTCATTGCAATGATGTATTTAAATTATTTCTGAATATTTTACTAAAAAGGGAATGTGGGAGGTCAGTGCATTTAAAACATAAAGAAATGAAGAGCTAGTTCAAACCTTGGGAAAATACACTATATCTTAAACTCCATGAAAGAAGGTGAGGCTGCAAACAGCTAATGCACATTGGCAACAGCCCCTGATGCATATGCCTTATTCATCCCTCAGAAAAGGATTCAAGTAGAGGCTTGATTTGGAGGTTAAAGTTTTGCTATGCTGTATTTTACATTACTTATTGTTTTAGCTGTCCTCATGAATGTCTTTTCACTACCCATTTGCTTATCCTGCATCTCTCAGCCTTGACTCCACTCAGTTCTCTTGCTTAGAGATACCACCTTTCCCCTGAAGTGTTCCTTCCATGTTTTACGGCGAGATGGTTTCTCCTCGCCTGGCCACTCAGCCTTAGTTGTCTCTGTTGTCTTATAGAGGTCTACTTGAAGAAGGAAAAACAGGGGTCATGGTTTGACTGTCCTGTGAGCCCTTCTTCCCTGCCTCCCCCACTCACAGTGACCCGGAATCTGCAGTGCTAGTCTCCCGGAACTATCACTCTTTCACAGTCTGCTTTGGAAGGACTGGGCTTAGTATGAAAAGTTAGGACTGAGAAGAATTTGAAAGGCGGCTTTTTGTAGCTTGATATTCACTACTGTCTTATTACCCTGTCATAGGCCCACCCCAAATGGAAGTCCCATTCTTCCTCAGGATGTTTAAGATTAGCATTCAGGAAGAGATCAGAGGTCTGCTGGCTCCCTTATCATGTCCCTTATGGTGCTTCTGGCTCTGCAGTTATTAGCATAGTGTTACCATCAACCACCTTAACTTCATTTTTCTTATTCAATACCTAGGTAGGTAGATGCTAGATTCTGGAAATAAAATATGAGTCTCAAGTGGTCCTTGTCCTCTCTCCCAGTCAAATTCTGAATCTAGTTGGCAAGATTCTGAAATCAAGGCATATAATCAGTAATAAGTGATGATAGAAGGGTATATAGAAGAATTTTATTATATGAGAGGGTGAAACCCTCAAAATGAAATGAAATCAGACCCTTGTCTTACACCATAAACAAAAATAAATTTGAATGGGTTAAAGAATTAAACTAAGACCTAAAACCATAAAAATTTTTAAAGAAATCAAAAGAAGAAAATTCTAATATTCACGTTGCAGCCGTTTTTTGAATTTGATATGAGAAGCAAAGGCAACAAAAGGAAAAATAAAGAAGTGAGGCTACATCAAACTAAAAAATTTCCACACAAAAAACAAAACAATGAACAAATGAAAGGTGAACCATGAAATGGCATATTTGCAAACCAAATATTTCTTAAATATTTTGGTTAATATCCAAAATATATAAGAAACACAGATGATTCAATAACAAACAAAAAATTAAAAATAGGAAAATAAAAAAATTAAAAAGAAGAAAATCCTGCCATTTATGGCAGAATTGATGAACCTGGAGGATGTAAAACTAAGAAAAATAAGCCTGACACAAAAAGACAAATACTACACAACCTTGCTCATATGTGAAACATAAAAAAGTCACTCTCATGGAAACAGACAGTAGAGGTATGGTTTCCAGGGGTTGGGGGTGGGAGAATCAGGAAACTATTACTCAAAGGGTATAAAATTTCAGTTATGTGGGATGAATAAATTCTAGATATCTAATGTACAGCATCGTGACTGTAGTTAATTGTACTGTAAGTATATTTAAAATTTGCAAAGAGAGTAGATTTTTTTTTTTTTTTAGATGGAGTTTTGCTCTTGTTGTCCAGGCTGGAGTGCAATGGCAAGATCTTGGCTCACTGCAACCTCCGCCTCCTGGGTTCAAGCAAATCTCCTGCCTCAGCCTCCCGAGTAGCTGGGATTACAGGCATGCGACACCATGCCCAGCTAATTTTGTATTTTTAGTAGAGACGGGGTTTCTCCATGTTGGTCAGGCTGATCCGCCTGCCTCGGCCACCCAAAGGGCTGGGATTACAGGCGTGAGCCACCGGGCCTGGCCGAGAGTAGATCTTAAAAGCATTTACCACAAGAAAAAGGTAACTATGTGAGATAATGGGTATGTTAATTAGCTTGATTGTGGTAATCATTTCACAAGGTATACATATATTAAAACATCATGTTGTACACCTTAAATATATACAATTTTTATTTGTGAATGATACCTCAATAAAGTTGAAGAATAATAAAAAAGAATAGACATCACATGAATTAAAAAACTAAAAAATAAAAAAATGCATCTTGATGATTAGAATTGCATTCTTGATTTTTCAGATACAAATATCCATTTGACTGTTTACTCTTTTCCAAAACAATACAATAAATTTTAGCACTTTATCTTCATTTTCCCCTTCCCAATCTATAATTATATATATATATATTTTAGATATTTTGTATAGTTTTACTCCCTAGATTTTCTAGTGTTATTATTAAATAGTGAAGAAATGTTTACACTTATGTACAAAATGTTTTGCATGCTTTTCTTCATTTCTAACATTCTCTCTAAGTTTATTCTATTTTTTTCTGATTATCCTTAATATTATCTCTTTCTGCTGGAAATACATTGTTACTTTTGGTTTATCTAAAAATGGCTTCATTTTCTTCATTCTAAAATCATGTTAAATTAATACCACTCATGTGTAAGTAAGATAGTGGAATAAATAGAAATCCAAAAACTAAATCTCACTAAAATATAATAATGTGATATATAAAAATATAGCTTTTAAATTTAGCTTGGAAATAAAAAACAAACAGTAATTGAACAACTATACTTTTTGAAAAGAGTAAAGTGAAATGCTTAACTGCATATACCACAATCGATTACACAATTAGGTGTGAAGGTAAAATTCAGTCACGAAAAAACTAGAATAAAAATATGGGAAGACATGTATATAATCTTAGAGATAACACTGTTATTTAATTATCAACCCAAAGTAGAAACTATCAAGGGAGAAATAAATTCAGTCAACAATAAAAGCATTTAAGAAGTTATTCTAGGCTGGGAGCGGTGGCTCACACCTGCAATTGCAGCACTTTGGGAGGCCTAGACAGGCGGATCACGACGTCAGGAGTTCAAGATCAGCCTGGCCAACATAGTGAAACCTCATCGCTACTAAAAATATAAAAACTTAGCCTGGCGTGGTGGCAGGCATGTGTAATCCCAGCAATTTGGGAGGCTGAGGCAGGAGAATCGCTTGATCCTGGGAGGCAGAGGTTGCAGTGAGCCAAGATTGTGCCACTGCATTCCAGCCCAGGTGACAGCATGAGACTCCGTCACAAAAAAAAAAGAAAAAAAAAAGGGGGGGGGGAGCGGTGGAGCCAAGATGACCGAATAGGAACAGCTCCAGTCTATAGCTCCCATCGTGAGTGACGCAGAAGACGGGTGATTTCTGCATTTCCAACTGAGGTACCAGGTTCATCTCACAGGGAAGTGCCAGGCAGTGGGTGCAGGACAGTAGGTGCAGTGCACTG\n"
          ]
        }
      ]
    },
    {
      "cell_type": "code",
      "source": [],
      "metadata": {
        "id": "_G14vp7B511w"
      },
      "execution_count": null,
      "outputs": []
    }
  ]
}