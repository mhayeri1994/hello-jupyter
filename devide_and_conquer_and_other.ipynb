{
  "nbformat": 4,
  "nbformat_minor": 0,
  "metadata": {
    "colab": {
      "provenance": [],
      "authorship_tag": "ABX9TyNT7fRalQAyhSw3ox0BtAgr",
      "include_colab_link": true
    },
    "kernelspec": {
      "name": "python3",
      "display_name": "Python 3"
    },
    "language_info": {
      "name": "python"
    }
  },
  "cells": [
    {
      "cell_type": "markdown",
      "metadata": {
        "id": "view-in-github",
        "colab_type": "text"
      },
      "source": [
        "<a href=\"https://colab.research.google.com/github/mhayeri1994/hello-jupyter/blob/main/devide_and_conquer_and_other.ipynb\" target=\"_parent\"><img src=\"https://colab.research.google.com/assets/colab-badge.svg\" alt=\"Open In Colab\"/></a>"
      ]
    },
    {
      "cell_type": "markdown",
      "source": [],
      "metadata": {
        "id": "X-UEutGoKT4M"
      }
    },
    {
      "cell_type": "code",
      "execution_count": 19,
      "metadata": {
        "colab": {
          "base_uri": "https://localhost:8080/"
        },
        "id": "cr_19NmRG5D6",
        "outputId": "eb036b00-c844-48e4-cca3-5546eaf741e0"
      },
      "outputs": [
        {
          "output_type": "stream",
          "name": "stdout",
          "text": [
            "Longest Common Substring: ('', 3)\n"
          ]
        }
      ],
      "source": [
        "def longest_common_substring(s1, s2):\n",
        "    \"\"\"\n",
        "    Rabin-Karp Algorithm (Rolling Hash)\n",
        "\n",
        "    Time Complexity: O((m + n) log(min(m, n))) due to the binary search combined with the hashing.\n",
        "    Space Complexity: O(1) for the hash table.\n",
        "    \"\"\"\n",
        "    # Create a 2D array to store lengths of longest common suffixes\n",
        "    m, n = len(s1), len(s2)\n",
        "    dp = [[0] * (n + 1) for _ in range(m + 1)]\n",
        "\n",
        "    longest_length = 0  # Length of the longest common substring\n",
        "    end_index = 0  # End index of the longest common substring in s1\n",
        "\n",
        "    # Build the dp array\n",
        "    for i in range(1, m + 1):\n",
        "        for j in range(1, n + 1):\n",
        "            if s1[i - 1] == s2[j - 1]:\n",
        "                dp[i][j] = dp[i - 1][j - 1] + 1\n",
        "                if dp[i][j] > longest_length:\n",
        "                    longest_length = dp[i][j]\n",
        "                    #end_index = i  # Update the end index\n",
        "                    end_index_s1 = i  # Update the end index in s1\n",
        "            else:\n",
        "                dp[i][j] = 0  # Reset if characters do not match\n",
        "\n",
        "    # Extract the longest common substring\n",
        "    longest_common_substr = s1[end_index - longest_length:end_index]\n",
        "    # return longest_common_substr\n",
        "    # Return the longest common substring and its starting index in s1\n",
        "    return longest_common_substr, end_index_s1 - longest_length\n",
        "\n",
        "# Example usage\n",
        "s1 = \"to be or not tobe\"\n",
        "s2 = \"bee\"\n",
        "result = longest_common_substring(s1, s2)\n",
        "print(\"Longest Common Substring:\", result)"
      ]
    },
    {
      "cell_type": "code",
      "source": [
        " n nnn                                                                                                                                               n  n      nnnnnnnnnnnnnnnn # Suffix Tree\n",
        "\n",
        "# Time Complexity: O(m + n), where m and n are the lengths of the two strings.\n",
        "# Space Complexity: O(m + n) for the suffix tree.\n"
      ],
      "metadata": {
        "id": "vtTVdO1QIuXT"
      },
      "execution_count": 4,
      "outputs": []
    },
    {
      "cell_type": "code",
      "source": [
        "# Suffix Array with Longest Common Prefix (LCP) Array\n",
        "\n",
        "# Time Complexity: O((m + n) log(m + n)) for constructing the suffix array, and O(m + n) for finding the longest common substring using the LCP array.\n",
        "# Space Complexity: O(m + n) for the suffix array and LCP array.\n"
      ],
      "metadata": {
        "id": "lYkHUt3QI2x9"
      },
      "execution_count": 5,
      "outputs": []
    },
    {
      "cell_type": "markdown",
      "source": [
        "Rabin-Karp Algorithm (Rolling Hash)\n",
        "\n",
        "   Time Complexity: O((m + n) log(min(m, n))) due to the binary search combined with the hashing.\n",
        "    Space Complexity: O(1) for the hash table.\n",
        "\n",
        "\n"
      ],
      "metadata": {
        "id": "bUcWyrT9I_wL"
      }
    },
    {
      "cell_type": "code",
      "source": [
        "def rabin_karp(text, pattern):\n",
        "    \"\"\"\n",
        "    Rabin-Karp Algorithm (Rolling Hash)\n",
        "    Time Complexity: O((m + n) log(min(m, n))) due to the binary search combined with the hashing.\n",
        "      Space Complexity: O(1) for the hash table.\n",
        "    \"\"\"\n",
        "    # Base value for the hash function\n",
        "    d = 256  # Number of characters in the input alphabet\n",
        "    q = 101  # A prime number to reduce hash collisions\n",
        "\n",
        "    M = len(pattern)\n",
        "    N = len(text)\n",
        "    p = 0  # Hash value for the pattern\n",
        "    t = 0  # Hash value for the text\n",
        "    h = 1\n",
        "\n",
        "    # The value of h would be \"pow(d, M-1)%q\"\n",
        "    for i in range(M - 1):\n",
        "        h = (h * d) % q\n",
        "\n",
        "    # Calculate the hash value of pattern and first window of text\n",
        "    for i in range(M):\n",
        "        p = (d * p + ord(pattern[i])) % q\n",
        "        t = (d * t + ord(text[i])) % q\n",
        "\n",
        "    # Slide the pattern over text one by one\n",
        "    for i in range(N - M + 1):\n",
        "        # Check the hash values of the current window of text and pattern\n",
        "        if p == t:\n",
        "            # If the hash values match, check for characters one by one\n",
        "            if text[i:i + M] == pattern:\n",
        "                print(f\"Pattern found at index {i}\")\n",
        "\n",
        "        # Calculate hash value for the next window of text\n",
        "        if i < N - M:\n",
        "            t = (d * (t - ord(text[i]) * h) + ord(text[i + M])) % q\n",
        "\n",
        "            # We might get negative value of t, converting it to positive\n",
        "            if t < 0:\n",
        "                t += q\n",
        "\n",
        "# Example usage\n",
        "text = \"to be or not tobe\"\n",
        "pattern = \"be\"\n",
        "rabin_karp(text, pattern)\n"
      ],
      "metadata": {
        "colab": {
          "base_uri": "https://localhost:8080/"
        },
        "id": "0se1ofc0LQfg",
        "outputId": "2886e0dc-6ff6-4cfa-8bae-97d03b1a3e9d"
      },
      "execution_count": 13,
      "outputs": [
        {
          "output_type": "stream",
          "name": "stdout",
          "text": [
            "Pattern found at index 3\n",
            "Pattern found at index 15\n"
          ]
        }
      ]
    },
    {
      "cell_type": "markdown",
      "source": [
        "\n",
        ""
      ],
      "metadata": {
        "id": "tzvlPb7xJHP3"
      }
    }
  ]
}