{
  "nbformat": 4,
  "nbformat_minor": 0,
  "metadata": {
    "colab": {
      "provenance": []
    },
    "kernelspec": {
      "name": "python3",
      "display_name": "Python 3"
    },
    "language_info": {
      "name": "python"
    }
  },
  "cells": [
    {
      "cell_type": "markdown",
      "source": [],
      "metadata": {
        "id": "x1Uq1prkyw0s"
      }
    },
    {
      "cell_type": "markdown",
      "source": [
        "The Nash equilibrium is a concept in game theory, named after John Nash, who introduced it in the 1950s. It is a state in a game where no player can improve their payoff (or outcome) by unilaterally changing their strategy, assuming all other players keep their strategies unchanged.\n",
        "\n",
        "In other words, a Nash equilibrium is a stable state where no player has an incentive to deviate from their chosen strategy, as any deviation would lead to a worse outcome. This concept is often used to analyze the behavior of players in situations where the outcome depends on the actions of multiple individuals.\n",
        "\n",
        "To be more specific, a Nash equilibrium is a set of strategies, one for each player, such that:\n",
        "\n",
        "1. No player can improve their payoff by changing their strategy, assuming all other players keep their strategies unchanged.\n",
        "2. No player has an incentive to deviate from their chosen strategy, as any deviation would lead to a worse outcome.\n",
        "\n",
        "The Nash equilibrium can be applied to various fields, including economics, politics, and social sciences, to analyze and predict the behavior of individuals and groups in strategic situations.\n",
        "\n",
        "Here's an example of a simple game to illustrate the concept:\n",
        "\n",
        "Imagine two companies, A and B, competing in a market. They can choose to either set a high price or a low price for their product. The payoffs for each company are as follows:\n",
        "\n",
        "|  | Company A sets high price | Company A sets low price |\n",
        "| --- | --- | --- |\n",
        "| Company B sets high price | A: $100, B: $100 | A: $50, B: $150 |\n",
        "| Company B sets low price | A: $150, B: $50 | A: $0, B: $0 |\n",
        "\n",
        "In this game, the Nash equilibrium is when both companies set a low price. This is because if one company sets a high price, the other company can improve their payoff by setting a low price. However, if both companies set a low price, neither company can improve their payoff by changing their strategy.\n",
        "\n",
        "$$\\text{Nash Equilibrium: (Low, Low)}$$"
      ],
      "metadata": {
        "id": "IMVY9jUHy0LB"
      }
    },
    {
      "cell_type": "markdown",
      "source": [
        "Implementing the Nash equilibrium concept in a game or a real-world scenario involves several steps:\n",
        "\n",
        "1. **Define the game**: Identify the players, their possible actions (strategies), and the payoffs associated with each action.\n",
        "2. **Create a payoff matrix**: Represent the payoffs for each player in a matrix, where the rows represent the actions of one player and the columns represent the actions of the other player.\n",
        "3. **Find the Nash equilibrium**: Analyze the payoff matrix to find the Nash equilibrium, which is the set of strategies where no player can improve their payoff by unilaterally changing their strategy.\n",
        "4. **Verify the equilibrium**: Check that the Nash equilibrium is stable by ensuring that no player has an incentive to deviate from their chosen strategy.\n",
        "\n",
        "Here's an example implementation in Python:\n",
        "```python\n",
        "# in below cell\n",
        "```\n",
        "This implementation defines a payoff matrix for a simple game and finds the Nash equilibrium using a brute-force approach. The `find_nash_equilibrium` function iterates over all possible strategies and checks if the current strategy is a Nash equilibrium.\n",
        "\n",
        "Note that this is a simplified example, and in practice, you may need to use more advanced techniques, such as linear programming or evolutionary game theory, to find the Nash equilibrium in more complex games."
      ],
      "metadata": {
        "id": "dY9605l8y303"
      }
    },
    {
      "cell_type": "code",
      "source": [
        "import numpy as np\n",
        "\n",
        "# Define the payoff matrix\n",
        "payoff_matrix_A= np.array([\n",
        "    [100, 50, 200, 150],  # Company A produces X\n",
        "    [150, 200, 100, 50],  # Company A produces Y\n",
        "    [50, 100, 150, 200],  # Company A produces Z\n",
        "    [200, 150, 50, 100]   # Company A produces W\n",
        "], dtype=float)\n",
        "\n",
        "payoff_matrix_B = np.array([\n",
        "    [100, 50, 200, 150],  # Company B produces X\n",
        "    [150, 200, 100, 50],  # Company B produces Y\n",
        "    [50, 100, 150, 200],  # Company B produces Z\n",
        "    [200, 150, 50, 100]   # Company B produces W\n",
        "], dtype=float)\n",
        "# payoff_matrix_B = payoff_matrix_A[-1]\n",
        "\n",
        "\n",
        "# Define the number of players and actions\n",
        "num_players = 2\n",
        "num_actions = 4\n",
        "\n",
        "# Function to find the Nash equilibrium\n",
        "def find_nash_equilibrium(payoff_matrix_A,payoff_matrix_B):\n",
        "    # Initialize the Nash equilibrium\n",
        "    nash_equilibrium = None\n",
        "\n",
        "    # Iterate over all possible strategies\n",
        "    for i in range(num_actions):\n",
        "        for j in range(num_actions):\n",
        "            # Check if the current strategy is a Nash equilibrium\n",
        "            if (payoff_matrix_A[i, j] >= payoff_matrix_A[i, (j+1)%num_actions] and\n",
        "                payoff_matrix_B[i, j] >= payoff_matrix_B[(i+1)%num_players, j]):\n",
        "                nash_equilibrium = (i, j)\n",
        "                break\n",
        "\n",
        "    return nash_equilibrium\n",
        "\n",
        "# Find the Nash equilibrium\n",
        "nash_equilibrium = find_nash_equilibrium(payoff_matrix_A,payoff_matrix_B)\n",
        "\n",
        "# Print the Nash equilibrium\n",
        "if nash_equilibrium:\n",
        "    print(\"Nash Equilibrium:\", nash_equilibrium)\n",
        "else:\n",
        "    print(\"No Nash Equilibrium found\")"
      ],
      "metadata": {
        "colab": {
          "base_uri": "https://localhost:8080/"
        },
        "id": "wjtBP3LTy5R2",
        "outputId": "cb8a0b59-f867-4db3-dbcc-bc2e922fca5e"
      },
      "execution_count": 2,
      "outputs": [
        {
          "output_type": "stream",
          "name": "stdout",
          "text": [
            "Nash Equilibrium: (3, 0)\n"
          ]
        }
      ]
    },
    {
      "cell_type": "code",
      "source": [],
      "metadata": {
        "id": "ibzRgH22y7MS"
      },
      "execution_count": null,
      "outputs": []
    }
  ]
}