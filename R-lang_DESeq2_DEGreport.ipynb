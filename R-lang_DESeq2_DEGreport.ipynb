{
  "cells": [
    {
      "cell_type": "markdown",
      "source": [
        "----------------------------------\n",
        "# R lang and Gene-level differential expression analysis using DESeq2\n"
      ],
      "metadata": {
        "id": "L9xaVSRIQF-3"
      }
    },
    {
      "cell_type": "code",
      "source": [
        "library(tidyverse)"
      ],
      "metadata": {
        "id": "n05T8jKpNbH6"
      },
      "execution_count": 6,
      "outputs": []
    },
    {
      "cell_type": "code",
      "source": [
        "library(RColorBrewer)"
      ],
      "metadata": {
        "id": "82DdC8uBNe-y"
      },
      "execution_count": 7,
      "outputs": []
    },
    {
      "cell_type": "code",
      "source": [
        "# library(DESeq2)\n",
        "# !pip install bioconductor-deseq2\n",
        "if (!require(\"BiocManager\", quietly = TRUE))\n",
        "    install.packages(\"BiocManager\")"
      ],
      "metadata": {
        "id": "SKX5vYYtNi2G"
      },
      "execution_count": 10,
      "outputs": []
    },
    {
      "cell_type": "code",
      "source": [
        "BiocManager::install(\"DESeq2\")"
      ],
      "metadata": {
        "colab": {
          "base_uri": "https://localhost:8080/"
        },
        "id": "xzyR2JkJOhEX",
        "outputId": "51b59a9e-4727-418c-a3fc-5d651da9b204"
      },
      "execution_count": 11,
      "outputs": [
        {
          "output_type": "stream",
          "name": "stderr",
          "text": [
            "'getOption(\"repos\")' replaces Bioconductor standard repositories, see\n",
            "'help(\"repositories\", package = \"BiocManager\")' for details.\n",
            "Replacement repositories:\n",
            "    CRAN: https://cran.rstudio.com\n",
            "\n",
            "Bioconductor version 3.20 (BiocManager 1.30.25), R 4.4.2 (2024-10-31)\n",
            "\n",
            "Installing package(s) 'DESeq2'\n",
            "\n",
            "also installing the dependencies ‘SparseArray’, ‘GenomeInfoDb’, ‘XVector’, ‘S4Arrays’, ‘DelayedArray’, ‘IRanges’, ‘GenomicRanges’, ‘SummarizedExperiment’, ‘BiocParallel’\n",
            "\n",
            "\n",
            "Old packages: 'httr2', 'later', 'promises', 'usethis'\n",
            "\n"
          ]
        }
      ]
    },
    {
      "cell_type": "code",
      "source": [
        "library(DESeq2)"
      ],
      "metadata": {
        "colab": {
          "base_uri": "https://localhost:8080/"
        },
        "id": "K8wiiwCgQU4O",
        "outputId": "52be3a3f-8bb4-449a-aced-1924807f0ec1"
      },
      "execution_count": 12,
      "outputs": [
        {
          "output_type": "stream",
          "name": "stderr",
          "text": [
            "Loading required package: S4Vectors\n",
            "\n",
            "Loading required package: stats4\n",
            "\n",
            "Loading required package: BiocGenerics\n",
            "\n",
            "\n",
            "Attaching package: ‘BiocGenerics’\n",
            "\n",
            "\n",
            "The following objects are masked from ‘package:lubridate’:\n",
            "\n",
            "    intersect, setdiff, union\n",
            "\n",
            "\n",
            "The following objects are masked from ‘package:dplyr’:\n",
            "\n",
            "    combine, intersect, setdiff, union\n",
            "\n",
            "\n",
            "The following objects are masked from ‘package:stats’:\n",
            "\n",
            "    IQR, mad, sd, var, xtabs\n",
            "\n",
            "\n",
            "The following objects are masked from ‘package:base’:\n",
            "\n",
            "    anyDuplicated, aperm, append, as.data.frame, basename, cbind,\n",
            "    colnames, dirname, do.call, duplicated, eval, evalq, Filter, Find,\n",
            "    get, grep, grepl, intersect, is.unsorted, lapply, Map, mapply,\n",
            "    match, mget, order, paste, pmax, pmax.int, pmin, pmin.int,\n",
            "    Position, rank, rbind, Reduce, rownames, sapply, saveRDS, setdiff,\n",
            "    table, tapply, union, unique, unsplit, which.max, which.min\n",
            "\n",
            "\n",
            "\n",
            "Attaching package: ‘S4Vectors’\n",
            "\n",
            "\n",
            "The following objects are masked from ‘package:lubridate’:\n",
            "\n",
            "    second, second<-\n",
            "\n",
            "\n",
            "The following objects are masked from ‘package:dplyr’:\n",
            "\n",
            "    first, rename\n",
            "\n",
            "\n",
            "The following object is masked from ‘package:tidyr’:\n",
            "\n",
            "    expand\n",
            "\n",
            "\n",
            "The following object is masked from ‘package:utils’:\n",
            "\n",
            "    findMatches\n",
            "\n",
            "\n",
            "The following objects are masked from ‘package:base’:\n",
            "\n",
            "    expand.grid, I, unname\n",
            "\n",
            "\n",
            "Loading required package: IRanges\n",
            "\n",
            "\n",
            "Attaching package: ‘IRanges’\n",
            "\n",
            "\n",
            "The following object is masked from ‘package:lubridate’:\n",
            "\n",
            "    %within%\n",
            "\n",
            "\n",
            "The following objects are masked from ‘package:dplyr’:\n",
            "\n",
            "    collapse, desc, slice\n",
            "\n",
            "\n",
            "The following object is masked from ‘package:purrr’:\n",
            "\n",
            "    reduce\n",
            "\n",
            "\n",
            "Loading required package: GenomicRanges\n",
            "\n",
            "Loading required package: GenomeInfoDb\n",
            "\n",
            "Loading required package: SummarizedExperiment\n",
            "\n",
            "Loading required package: MatrixGenerics\n",
            "\n",
            "Loading required package: matrixStats\n",
            "\n",
            "\n",
            "Attaching package: ‘matrixStats’\n",
            "\n",
            "\n",
            "The following object is masked from ‘package:dplyr’:\n",
            "\n",
            "    count\n",
            "\n",
            "\n",
            "\n",
            "Attaching package: ‘MatrixGenerics’\n",
            "\n",
            "\n",
            "The following objects are masked from ‘package:matrixStats’:\n",
            "\n",
            "    colAlls, colAnyNAs, colAnys, colAvgsPerRowSet, colCollapse,\n",
            "    colCounts, colCummaxs, colCummins, colCumprods, colCumsums,\n",
            "    colDiffs, colIQRDiffs, colIQRs, colLogSumExps, colMadDiffs,\n",
            "    colMads, colMaxs, colMeans2, colMedians, colMins, colOrderStats,\n",
            "    colProds, colQuantiles, colRanges, colRanks, colSdDiffs, colSds,\n",
            "    colSums2, colTabulates, colVarDiffs, colVars, colWeightedMads,\n",
            "    colWeightedMeans, colWeightedMedians, colWeightedSds,\n",
            "    colWeightedVars, rowAlls, rowAnyNAs, rowAnys, rowAvgsPerColSet,\n",
            "    rowCollapse, rowCounts, rowCummaxs, rowCummins, rowCumprods,\n",
            "    rowCumsums, rowDiffs, rowIQRDiffs, rowIQRs, rowLogSumExps,\n",
            "    rowMadDiffs, rowMads, rowMaxs, rowMeans2, rowMedians, rowMins,\n",
            "    rowOrderStats, rowProds, rowQuantiles, rowRanges, rowRanks,\n",
            "    rowSdDiffs, rowSds, rowSums2, rowTabulates, rowVarDiffs, rowVars,\n",
            "    rowWeightedMads, rowWeightedMeans, rowWeightedMedians,\n",
            "    rowWeightedSds, rowWeightedVars\n",
            "\n",
            "\n",
            "Loading required package: Biobase\n",
            "\n",
            "Welcome to Bioconductor\n",
            "\n",
            "    Vignettes contain introductory material; view with\n",
            "    'browseVignettes()'. To cite Bioconductor, see\n",
            "    'citation(\"Biobase\")', and for packages 'citation(\"pkgname\")'.\n",
            "\n",
            "\n",
            "\n",
            "Attaching package: ‘Biobase’\n",
            "\n",
            "\n",
            "The following object is masked from ‘package:MatrixGenerics’:\n",
            "\n",
            "    rowMedians\n",
            "\n",
            "\n",
            "The following objects are masked from ‘package:matrixStats’:\n",
            "\n",
            "    anyMissing, rowMedians\n",
            "\n",
            "\n"
          ]
        }
      ]
    },
    {
      "cell_type": "code",
      "source": [
        "# ... (rest of your code)\n",
        "# Install and load pheatmap\n",
        "if (!require(\"pheatmap\", quietly = TRUE)) {\n",
        "  BiocManager::install(\"pheatmap\")\n",
        "}"
      ],
      "metadata": {
        "colab": {
          "base_uri": "https://localhost:8080/"
        },
        "id": "jWT0GHD0QcR-",
        "outputId": "c20156bf-a372-46e0-e2c0-0cbf7b6226cc"
      },
      "execution_count": 14,
      "outputs": [
        {
          "output_type": "stream",
          "name": "stderr",
          "text": [
            "'getOption(\"repos\")' replaces Bioconductor standard repositories, see\n",
            "'help(\"repositories\", package = \"BiocManager\")' for details.\n",
            "Replacement repositories:\n",
            "    CRAN: https://cran.rstudio.com\n",
            "\n",
            "Bioconductor version 3.20 (BiocManager 1.30.25), R 4.4.2 (2024-10-31)\n",
            "\n",
            "Installing package(s) 'pheatmap'\n",
            "\n",
            "Old packages: 'httr2', 'later', 'promises', 'usethis'\n",
            "\n"
          ]
        }
      ]
    },
    {
      "cell_type": "code",
      "source": [
        "library(pheatmap)"
      ],
      "metadata": {
        "id": "CgQJm49EQjzx"
      },
      "execution_count": 15,
      "outputs": []
    },
    {
      "cell_type": "code",
      "source": [
        "# Install DEGreport using BiocManager\n",
        "if (!require(\"DEGreport\", quietly = TRUE)) {\n",
        "  BiocManager::install(\"DEGreport\")\n",
        "}"
      ],
      "metadata": {
        "colab": {
          "base_uri": "https://localhost:8080/"
        },
        "id": "BLNYXjbkQpYp",
        "outputId": "bfd7a478-7314-40b2-ed7c-05e552d6fbb2"
      },
      "execution_count": 17,
      "outputs": [
        {
          "output_type": "stream",
          "name": "stderr",
          "text": [
            "'getOption(\"repos\")' replaces Bioconductor standard repositories, see\n",
            "'help(\"repositories\", package = \"BiocManager\")' for details.\n",
            "Replacement repositories:\n",
            "    CRAN: https://cran.rstudio.com\n",
            "\n",
            "Bioconductor version 3.20 (BiocManager 1.30.25), R 4.4.2 (2024-10-31)\n",
            "\n",
            "Installing package(s) 'DEGreport'\n",
            "\n",
            "also installing the dependencies ‘rjson’, ‘iterators’, ‘gridExtra’, ‘statmod’, ‘GlobalOptions’, ‘shape’, ‘GetoptLong’, ‘clue’, ‘png’, ‘foreach’, ‘doParallel’, ‘ALL’, ‘viridis’, ‘limma’, ‘mnormt’, ‘GPArotation’, ‘plyr’, ‘circlize’, ‘ComplexHeatmap’, ‘cowplot’, ‘ConsensusClusterPlus’, ‘dendextend’, ‘edgeR’, ‘ggdendro’, ‘ggrepel’, ‘logging’, ‘psych’, ‘reshape’\n",
            "\n",
            "\n",
            "Old packages: 'httr2', 'later', 'promises', 'usethis'\n",
            "\n"
          ]
        }
      ]
    },
    {
      "cell_type": "code",
      "source": [
        "library(DEGreport)"
      ],
      "metadata": {
        "id": "u8nKNKoHHFkN"
      },
      "execution_count": 18,
      "outputs": []
    },
    {
      "cell_type": "code",
      "source": [
        "\n",
        "\n",
        "## Load in data\n",
        "\n",
        "data <- read.table(\"data/Mov10_full_counts.txt\", header=T, row.names=1)\n",
        "\n",
        "meta <- read.table(\"meta/Mov10_full_meta.txt\", header=T, row.names=1)\n",
        "\n",
        "### Check classes of the data we just brought in\n",
        "class(meta)\n",
        "class(data)\n",
        "\n",
        "View(meta)"
      ],
      "metadata": {
        "colab": {
          "base_uri": "https://localhost:8080/",
          "height": 384
        },
        "id": "0UqJgefqFJh1",
        "outputId": "fc4dac57-0b26-47d3-a3c9-09ea33ce52c9"
      },
      "execution_count": 21,
      "outputs": [
        {
          "output_type": "display_data",
          "data": {
            "text/html": [
              "'data.frame'"
            ],
            "text/markdown": "'data.frame'",
            "text/latex": "'data.frame'",
            "text/plain": [
              "[1] \"data.frame\""
            ]
          },
          "metadata": {}
        },
        {
          "output_type": "display_data",
          "data": {
            "text/html": [
              "'data.frame'"
            ],
            "text/markdown": "'data.frame'",
            "text/latex": "'data.frame'",
            "text/plain": [
              "[1] \"data.frame\""
            ]
          },
          "metadata": {}
        },
        {
          "output_type": "display_data",
          "data": {
            "text/plain": [
              "           sampletype           MOVexpr\n",
              "Mov10_kd_2 MOV10_knockdown      low    \n",
              "Mov10_kd_3 MOV10_knockdown      low    \n",
              "Mov10_oe_1 MOV10_overexpression high   \n",
              "Mov10_oe_2 MOV10_overexpression high   \n",
              "Mov10_oe_3 MOV10_overexpression high   \n",
              "Irrel_kd_1 control              normal \n",
              "Irrel_kd_2 control              normal \n",
              "Irrel_kd_3 control              normal "
            ],
            "text/html": [
              "<table class=\"dataframe\">\n",
              "<caption>A data.frame: 8 × 2</caption>\n",
              "<thead>\n",
              "\t<tr><th></th><th scope=col>sampletype</th><th scope=col>MOVexpr</th></tr>\n",
              "\t<tr><th></th><th scope=col>&lt;chr&gt;</th><th scope=col>&lt;chr&gt;</th></tr>\n",
              "</thead>\n",
              "<tbody>\n",
              "\t<tr><th scope=row>Mov10_kd_2</th><td>MOV10_knockdown     </td><td>low   </td></tr>\n",
              "\t<tr><th scope=row>Mov10_kd_3</th><td>MOV10_knockdown     </td><td>low   </td></tr>\n",
              "\t<tr><th scope=row>Mov10_oe_1</th><td>MOV10_overexpression</td><td>high  </td></tr>\n",
              "\t<tr><th scope=row>Mov10_oe_2</th><td>MOV10_overexpression</td><td>high  </td></tr>\n",
              "\t<tr><th scope=row>Mov10_oe_3</th><td>MOV10_overexpression</td><td>high  </td></tr>\n",
              "\t<tr><th scope=row>Irrel_kd_1</th><td>control             </td><td>normal</td></tr>\n",
              "\t<tr><th scope=row>Irrel_kd_2</th><td>control             </td><td>normal</td></tr>\n",
              "\t<tr><th scope=row>Irrel_kd_3</th><td>control             </td><td>normal</td></tr>\n",
              "</tbody>\n",
              "</table>\n"
            ],
            "text/markdown": "\nA data.frame: 8 × 2\n\n| <!--/--> | sampletype &lt;chr&gt; | MOVexpr &lt;chr&gt; |\n|---|---|---|\n| Mov10_kd_2 | MOV10_knockdown      | low    |\n| Mov10_kd_3 | MOV10_knockdown      | low    |\n| Mov10_oe_1 | MOV10_overexpression | high   |\n| Mov10_oe_2 | MOV10_overexpression | high   |\n| Mov10_oe_3 | MOV10_overexpression | high   |\n| Irrel_kd_1 | control              | normal |\n| Irrel_kd_2 | control              | normal |\n| Irrel_kd_3 | control              | normal |\n\n",
            "text/latex": "A data.frame: 8 × 2\n\\begin{tabular}{r|ll}\n  & sampletype & MOVexpr\\\\\n  & <chr> & <chr>\\\\\n\\hline\n\tMov10\\_kd\\_2 & MOV10\\_knockdown      & low   \\\\\n\tMov10\\_kd\\_3 & MOV10\\_knockdown      & low   \\\\\n\tMov10\\_oe\\_1 & MOV10\\_overexpression & high  \\\\\n\tMov10\\_oe\\_2 & MOV10\\_overexpression & high  \\\\\n\tMov10\\_oe\\_3 & MOV10\\_overexpression & high  \\\\\n\tIrrel\\_kd\\_1 & control              & normal\\\\\n\tIrrel\\_kd\\_2 & control              & normal\\\\\n\tIrrel\\_kd\\_3 & control              & normal\\\\\n\\end{tabular}\n"
          },
          "metadata": {}
        }
      ]
    },
    {
      "cell_type": "code",
      "source": [
        "View(data)"
      ],
      "metadata": {
        "colab": {
          "base_uri": "https://localhost:8080/",
          "height": 1000
        },
        "id": "KgCoylQbSAen",
        "outputId": "37ff32e8-3194-458b-cf1c-73f2923fd49f"
      },
      "execution_count": 22,
      "outputs": [
        {
          "output_type": "display_data",
          "data": {
            "text/plain": [
              "            Mov10_kd_2 Mov10_kd_3 Mov10_oe_1 Mov10_oe_2 Mov10_oe_3 Irrel_kd_1\n",
              "1/2-SBSRNA4   57         41         64         55         38         45      \n",
              "A1BG          71         40        100         81         41         77      \n",
              "A1BG-AS1     256        177        220        189        107        213      \n",
              "A1CF           0          1          1          0          0          0      \n",
              "A2LD1        146         81        138        125         52         91      \n",
              "A2M           10          9          2          5          2          9      \n",
              "A2ML1          3          2          6          5          2          2      \n",
              "A2MP1          0          0          2          1          3          0      \n",
              "A4GALT        56         37        107        118         65         49      \n",
              "A4GNT          0          0          0          0          1          0      \n",
              "AA06           0          0          0          0          0          0      \n",
              "AAA1           0          0          1          0          0          0      \n",
              "AAAS        2288       1363       1753       1727        835       1672      \n",
              "AACS        1586        923        951        967        484        938      \n",
              "AACSP1         1          1          3          0          1          1      \n",
              "AADAC          0          0          0          0          0          0      \n",
              "AADACL2        0          0          0          0          0          0      \n",
              "AADACL3        0          0          0          0          0          0      \n",
              "AADACL4        0          0          1          1          0          0      \n",
              "AADAT        856        539        593        576        359        567      \n",
              "AAGAB       4648       2550       2648       2356       1481       3265      \n",
              "AAK1        2310       1384       1869       1602        980       1675      \n",
              "AAMP        5198       3081       3179       3137       1721       4061      \n",
              "AANAT          7          7         12         12          4          6      \n",
              "AARS        5570       3323       4782       4580       2473       3953      \n",
              "AARS2       4451       2727       2281       2121       1249       2480      \n",
              "AARSD1      1622        897       1057       1017        556        887      \n",
              "AASDH       1278        766        980        929        568        827      \n",
              "AASDHPPT    5522       3184       3867       3423       2226       4620      \n",
              "AASS        1645       1001       1367       1103        833       1023      \n",
              "⋮           ⋮          ⋮          ⋮          ⋮          ⋮          ⋮         \n",
              "ZSCAN2       790        489        589        619        323        520      \n",
              "ZSCAN20      517        327        401        362        230        349      \n",
              "ZSCAN21      822        515        603        552        298        594      \n",
              "ZSCAN22      820        494        535        513        292        447      \n",
              "ZSCAN23      225        144        195        174         99        135      \n",
              "ZSCAN29     1760       1032       1313       1166        667       1207      \n",
              "ZSCAN30     1430        864       1267       1094        714        993      \n",
              "ZSCAN4         3          3          5          2          1          2      \n",
              "ZSCAN5A      239        113        112         90         60        198      \n",
              "ZSCAN5B        5          3          2          2          0          5      \n",
              "ZSWIM1       766        478        542        528        264        518      \n",
              "ZSWIM2         0          0          0          1          0          0      \n",
              "ZSWIM3       460        254        303        258        136        247      \n",
              "ZSWIM4       401        248        477        469        232        284      \n",
              "ZSWIM5      1164        652        702        572        299        851      \n",
              "ZSWIM6      3822       2311       2448       2221       1305       2258      \n",
              "ZSWIM7      1064        634        757        667        401        792      \n",
              "ZUFSP       1241        758       1257       1077        799        841      \n",
              "ZW10        2536       1450       1384       1290        769       1635      \n",
              "ZWILCH      4000       2287       2888       2534       1497       3071      \n",
              "ZWINT       6771       4121       4603       4293       2561       5098      \n",
              "ZXDA         308        204        362        317        219        218      \n",
              "ZXDB        1155        602       1027        945        592        826      \n",
              "ZXDC        4578       2778       4478       3911       2412       3224      \n",
              "ZYG11A      1072        678        991        920        588        783      \n",
              "ZYG11B      4628       2817       3406       3072       2049       3267      \n",
              "ZYX         5296       2982       3244       3485       1596       3344      \n",
              "ZZEF1       4353       2358       2482       1991       1114       2334      \n",
              "ZZZ3        3401       2006       2514       2236       1466       2657      \n",
              "tAKR           1          1          0          0          0          0      \n",
              "            Irrel_kd_2 Irrel_kd_3\n",
              "1/2-SBSRNA4   31         39      \n",
              "A1BG          58         40      \n",
              "A1BG-AS1     172        126      \n",
              "A1CF           0          0      \n",
              "A2LD1         80         50      \n",
              "A2M            8          4      \n",
              "A2ML1          1          0      \n",
              "A2MP1          2          1      \n",
              "A4GALT        52         37      \n",
              "A4GNT          0          0      \n",
              "AA06           0          0      \n",
              "AAA1           0          0      \n",
              "AAAS        1389       1121      \n",
              "AACS         771        635      \n",
              "AACSP1         1          3      \n",
              "AADAC          0          0      \n",
              "AADACL2        0          0      \n",
              "AADACL3        0          0      \n",
              "AADACL4        0          0      \n",
              "AADAT        521        416      \n",
              "AAGAB       2790       2118      \n",
              "AAK1        1614       1108      \n",
              "AAMP        3304       2623      \n",
              "AANAT          2          7      \n",
              "AARS        3339       2666      \n",
              "AARS2       2074       1657      \n",
              "AARSD1       783        563      \n",
              "AASDH        717        553      \n",
              "AASDHPPT    3742       2892      \n",
              "AASS         851        623      \n",
              "⋮           ⋮          ⋮         \n",
              "ZSCAN2       465        362      \n",
              "ZSCAN20      325        269      \n",
              "ZSCAN21      504        382      \n",
              "ZSCAN22      368        289      \n",
              "ZSCAN23      122        100      \n",
              "ZSCAN29     1041        826      \n",
              "ZSCAN30      889        747      \n",
              "ZSCAN4         1          2      \n",
              "ZSCAN5A      156        115      \n",
              "ZSCAN5B        2          2      \n",
              "ZSWIM1       453        327      \n",
              "ZSWIM2         0          0      \n",
              "ZSWIM3       223        178      \n",
              "ZSWIM4       256        203      \n",
              "ZSWIM5       772        611      \n",
              "ZSWIM6      2030       1480      \n",
              "ZSWIM7       657        540      \n",
              "ZUFSP        795        621      \n",
              "ZW10        1401       1108      \n",
              "ZWILCH      2565       1889      \n",
              "ZWINT       4530       3547      \n",
              "ZXDA         209        144      \n",
              "ZXDB         691        510      \n",
              "ZXDC        3051       2268      \n",
              "ZYG11A       632        493      \n",
              "ZYG11B      3035       2278      \n",
              "ZYX         2700       2135      \n",
              "ZZEF1       1950       1572      \n",
              "ZZZ3        2419       1643      \n",
              "tAKR           1          0      "
            ],
            "text/html": [
              "<table class=\"dataframe\">\n",
              "<caption>A data.frame: 23368 × 8</caption>\n",
              "<thead>\n",
              "\t<tr><th></th><th scope=col>Mov10_kd_2</th><th scope=col>Mov10_kd_3</th><th scope=col>Mov10_oe_1</th><th scope=col>Mov10_oe_2</th><th scope=col>Mov10_oe_3</th><th scope=col>Irrel_kd_1</th><th scope=col>Irrel_kd_2</th><th scope=col>Irrel_kd_3</th></tr>\n",
              "\t<tr><th></th><th scope=col>&lt;int&gt;</th><th scope=col>&lt;int&gt;</th><th scope=col>&lt;int&gt;</th><th scope=col>&lt;int&gt;</th><th scope=col>&lt;int&gt;</th><th scope=col>&lt;int&gt;</th><th scope=col>&lt;int&gt;</th><th scope=col>&lt;int&gt;</th></tr>\n",
              "</thead>\n",
              "<tbody>\n",
              "\t<tr><th scope=row>1/2-SBSRNA4</th><td>  57</td><td>  41</td><td>  64</td><td>  55</td><td>  38</td><td>  45</td><td>  31</td><td>  39</td></tr>\n",
              "\t<tr><th scope=row>A1BG</th><td>  71</td><td>  40</td><td> 100</td><td>  81</td><td>  41</td><td>  77</td><td>  58</td><td>  40</td></tr>\n",
              "\t<tr><th scope=row>A1BG-AS1</th><td> 256</td><td> 177</td><td> 220</td><td> 189</td><td> 107</td><td> 213</td><td> 172</td><td> 126</td></tr>\n",
              "\t<tr><th scope=row>A1CF</th><td>   0</td><td>   1</td><td>   1</td><td>   0</td><td>   0</td><td>   0</td><td>   0</td><td>   0</td></tr>\n",
              "\t<tr><th scope=row>A2LD1</th><td> 146</td><td>  81</td><td> 138</td><td> 125</td><td>  52</td><td>  91</td><td>  80</td><td>  50</td></tr>\n",
              "\t<tr><th scope=row>A2M</th><td>  10</td><td>   9</td><td>   2</td><td>   5</td><td>   2</td><td>   9</td><td>   8</td><td>   4</td></tr>\n",
              "\t<tr><th scope=row>A2ML1</th><td>   3</td><td>   2</td><td>   6</td><td>   5</td><td>   2</td><td>   2</td><td>   1</td><td>   0</td></tr>\n",
              "\t<tr><th scope=row>A2MP1</th><td>   0</td><td>   0</td><td>   2</td><td>   1</td><td>   3</td><td>   0</td><td>   2</td><td>   1</td></tr>\n",
              "\t<tr><th scope=row>A4GALT</th><td>  56</td><td>  37</td><td> 107</td><td> 118</td><td>  65</td><td>  49</td><td>  52</td><td>  37</td></tr>\n",
              "\t<tr><th scope=row>A4GNT</th><td>   0</td><td>   0</td><td>   0</td><td>   0</td><td>   1</td><td>   0</td><td>   0</td><td>   0</td></tr>\n",
              "\t<tr><th scope=row>AA06</th><td>   0</td><td>   0</td><td>   0</td><td>   0</td><td>   0</td><td>   0</td><td>   0</td><td>   0</td></tr>\n",
              "\t<tr><th scope=row>AAA1</th><td>   0</td><td>   0</td><td>   1</td><td>   0</td><td>   0</td><td>   0</td><td>   0</td><td>   0</td></tr>\n",
              "\t<tr><th scope=row>AAAS</th><td>2288</td><td>1363</td><td>1753</td><td>1727</td><td> 835</td><td>1672</td><td>1389</td><td>1121</td></tr>\n",
              "\t<tr><th scope=row>AACS</th><td>1586</td><td> 923</td><td> 951</td><td> 967</td><td> 484</td><td> 938</td><td> 771</td><td> 635</td></tr>\n",
              "\t<tr><th scope=row>AACSP1</th><td>   1</td><td>   1</td><td>   3</td><td>   0</td><td>   1</td><td>   1</td><td>   1</td><td>   3</td></tr>\n",
              "\t<tr><th scope=row>AADAC</th><td>   0</td><td>   0</td><td>   0</td><td>   0</td><td>   0</td><td>   0</td><td>   0</td><td>   0</td></tr>\n",
              "\t<tr><th scope=row>AADACL2</th><td>   0</td><td>   0</td><td>   0</td><td>   0</td><td>   0</td><td>   0</td><td>   0</td><td>   0</td></tr>\n",
              "\t<tr><th scope=row>AADACL3</th><td>   0</td><td>   0</td><td>   0</td><td>   0</td><td>   0</td><td>   0</td><td>   0</td><td>   0</td></tr>\n",
              "\t<tr><th scope=row>AADACL4</th><td>   0</td><td>   0</td><td>   1</td><td>   1</td><td>   0</td><td>   0</td><td>   0</td><td>   0</td></tr>\n",
              "\t<tr><th scope=row>AADAT</th><td> 856</td><td> 539</td><td> 593</td><td> 576</td><td> 359</td><td> 567</td><td> 521</td><td> 416</td></tr>\n",
              "\t<tr><th scope=row>AAGAB</th><td>4648</td><td>2550</td><td>2648</td><td>2356</td><td>1481</td><td>3265</td><td>2790</td><td>2118</td></tr>\n",
              "\t<tr><th scope=row>AAK1</th><td>2310</td><td>1384</td><td>1869</td><td>1602</td><td> 980</td><td>1675</td><td>1614</td><td>1108</td></tr>\n",
              "\t<tr><th scope=row>AAMP</th><td>5198</td><td>3081</td><td>3179</td><td>3137</td><td>1721</td><td>4061</td><td>3304</td><td>2623</td></tr>\n",
              "\t<tr><th scope=row>AANAT</th><td>   7</td><td>   7</td><td>  12</td><td>  12</td><td>   4</td><td>   6</td><td>   2</td><td>   7</td></tr>\n",
              "\t<tr><th scope=row>AARS</th><td>5570</td><td>3323</td><td>4782</td><td>4580</td><td>2473</td><td>3953</td><td>3339</td><td>2666</td></tr>\n",
              "\t<tr><th scope=row>AARS2</th><td>4451</td><td>2727</td><td>2281</td><td>2121</td><td>1249</td><td>2480</td><td>2074</td><td>1657</td></tr>\n",
              "\t<tr><th scope=row>AARSD1</th><td>1622</td><td> 897</td><td>1057</td><td>1017</td><td> 556</td><td> 887</td><td> 783</td><td> 563</td></tr>\n",
              "\t<tr><th scope=row>AASDH</th><td>1278</td><td> 766</td><td> 980</td><td> 929</td><td> 568</td><td> 827</td><td> 717</td><td> 553</td></tr>\n",
              "\t<tr><th scope=row>AASDHPPT</th><td>5522</td><td>3184</td><td>3867</td><td>3423</td><td>2226</td><td>4620</td><td>3742</td><td>2892</td></tr>\n",
              "\t<tr><th scope=row>AASS</th><td>1645</td><td>1001</td><td>1367</td><td>1103</td><td> 833</td><td>1023</td><td> 851</td><td> 623</td></tr>\n",
              "\t<tr><th scope=row>⋮</th><td>⋮</td><td>⋮</td><td>⋮</td><td>⋮</td><td>⋮</td><td>⋮</td><td>⋮</td><td>⋮</td></tr>\n",
              "\t<tr><th scope=row>ZSCAN2</th><td> 790</td><td> 489</td><td> 589</td><td> 619</td><td> 323</td><td> 520</td><td> 465</td><td> 362</td></tr>\n",
              "\t<tr><th scope=row>ZSCAN20</th><td> 517</td><td> 327</td><td> 401</td><td> 362</td><td> 230</td><td> 349</td><td> 325</td><td> 269</td></tr>\n",
              "\t<tr><th scope=row>ZSCAN21</th><td> 822</td><td> 515</td><td> 603</td><td> 552</td><td> 298</td><td> 594</td><td> 504</td><td> 382</td></tr>\n",
              "\t<tr><th scope=row>ZSCAN22</th><td> 820</td><td> 494</td><td> 535</td><td> 513</td><td> 292</td><td> 447</td><td> 368</td><td> 289</td></tr>\n",
              "\t<tr><th scope=row>ZSCAN23</th><td> 225</td><td> 144</td><td> 195</td><td> 174</td><td>  99</td><td> 135</td><td> 122</td><td> 100</td></tr>\n",
              "\t<tr><th scope=row>ZSCAN29</th><td>1760</td><td>1032</td><td>1313</td><td>1166</td><td> 667</td><td>1207</td><td>1041</td><td> 826</td></tr>\n",
              "\t<tr><th scope=row>ZSCAN30</th><td>1430</td><td> 864</td><td>1267</td><td>1094</td><td> 714</td><td> 993</td><td> 889</td><td> 747</td></tr>\n",
              "\t<tr><th scope=row>ZSCAN4</th><td>   3</td><td>   3</td><td>   5</td><td>   2</td><td>   1</td><td>   2</td><td>   1</td><td>   2</td></tr>\n",
              "\t<tr><th scope=row>ZSCAN5A</th><td> 239</td><td> 113</td><td> 112</td><td>  90</td><td>  60</td><td> 198</td><td> 156</td><td> 115</td></tr>\n",
              "\t<tr><th scope=row>ZSCAN5B</th><td>   5</td><td>   3</td><td>   2</td><td>   2</td><td>   0</td><td>   5</td><td>   2</td><td>   2</td></tr>\n",
              "\t<tr><th scope=row>ZSWIM1</th><td> 766</td><td> 478</td><td> 542</td><td> 528</td><td> 264</td><td> 518</td><td> 453</td><td> 327</td></tr>\n",
              "\t<tr><th scope=row>ZSWIM2</th><td>   0</td><td>   0</td><td>   0</td><td>   1</td><td>   0</td><td>   0</td><td>   0</td><td>   0</td></tr>\n",
              "\t<tr><th scope=row>ZSWIM3</th><td> 460</td><td> 254</td><td> 303</td><td> 258</td><td> 136</td><td> 247</td><td> 223</td><td> 178</td></tr>\n",
              "\t<tr><th scope=row>ZSWIM4</th><td> 401</td><td> 248</td><td> 477</td><td> 469</td><td> 232</td><td> 284</td><td> 256</td><td> 203</td></tr>\n",
              "\t<tr><th scope=row>ZSWIM5</th><td>1164</td><td> 652</td><td> 702</td><td> 572</td><td> 299</td><td> 851</td><td> 772</td><td> 611</td></tr>\n",
              "\t<tr><th scope=row>ZSWIM6</th><td>3822</td><td>2311</td><td>2448</td><td>2221</td><td>1305</td><td>2258</td><td>2030</td><td>1480</td></tr>\n",
              "\t<tr><th scope=row>ZSWIM7</th><td>1064</td><td> 634</td><td> 757</td><td> 667</td><td> 401</td><td> 792</td><td> 657</td><td> 540</td></tr>\n",
              "\t<tr><th scope=row>ZUFSP</th><td>1241</td><td> 758</td><td>1257</td><td>1077</td><td> 799</td><td> 841</td><td> 795</td><td> 621</td></tr>\n",
              "\t<tr><th scope=row>ZW10</th><td>2536</td><td>1450</td><td>1384</td><td>1290</td><td> 769</td><td>1635</td><td>1401</td><td>1108</td></tr>\n",
              "\t<tr><th scope=row>ZWILCH</th><td>4000</td><td>2287</td><td>2888</td><td>2534</td><td>1497</td><td>3071</td><td>2565</td><td>1889</td></tr>\n",
              "\t<tr><th scope=row>ZWINT</th><td>6771</td><td>4121</td><td>4603</td><td>4293</td><td>2561</td><td>5098</td><td>4530</td><td>3547</td></tr>\n",
              "\t<tr><th scope=row>ZXDA</th><td> 308</td><td> 204</td><td> 362</td><td> 317</td><td> 219</td><td> 218</td><td> 209</td><td> 144</td></tr>\n",
              "\t<tr><th scope=row>ZXDB</th><td>1155</td><td> 602</td><td>1027</td><td> 945</td><td> 592</td><td> 826</td><td> 691</td><td> 510</td></tr>\n",
              "\t<tr><th scope=row>ZXDC</th><td>4578</td><td>2778</td><td>4478</td><td>3911</td><td>2412</td><td>3224</td><td>3051</td><td>2268</td></tr>\n",
              "\t<tr><th scope=row>ZYG11A</th><td>1072</td><td> 678</td><td> 991</td><td> 920</td><td> 588</td><td> 783</td><td> 632</td><td> 493</td></tr>\n",
              "\t<tr><th scope=row>ZYG11B</th><td>4628</td><td>2817</td><td>3406</td><td>3072</td><td>2049</td><td>3267</td><td>3035</td><td>2278</td></tr>\n",
              "\t<tr><th scope=row>ZYX</th><td>5296</td><td>2982</td><td>3244</td><td>3485</td><td>1596</td><td>3344</td><td>2700</td><td>2135</td></tr>\n",
              "\t<tr><th scope=row>ZZEF1</th><td>4353</td><td>2358</td><td>2482</td><td>1991</td><td>1114</td><td>2334</td><td>1950</td><td>1572</td></tr>\n",
              "\t<tr><th scope=row>ZZZ3</th><td>3401</td><td>2006</td><td>2514</td><td>2236</td><td>1466</td><td>2657</td><td>2419</td><td>1643</td></tr>\n",
              "\t<tr><th scope=row>tAKR</th><td>   1</td><td>   1</td><td>   0</td><td>   0</td><td>   0</td><td>   0</td><td>   1</td><td>   0</td></tr>\n",
              "</tbody>\n",
              "</table>\n"
            ],
            "text/markdown": "\nA data.frame: 23368 × 8\n\n| <!--/--> | Mov10_kd_2 &lt;int&gt; | Mov10_kd_3 &lt;int&gt; | Mov10_oe_1 &lt;int&gt; | Mov10_oe_2 &lt;int&gt; | Mov10_oe_3 &lt;int&gt; | Irrel_kd_1 &lt;int&gt; | Irrel_kd_2 &lt;int&gt; | Irrel_kd_3 &lt;int&gt; |\n|---|---|---|---|---|---|---|---|---|\n| 1/2-SBSRNA4 |   57 |   41 |   64 |   55 |   38 |   45 |   31 |   39 |\n| A1BG |   71 |   40 |  100 |   81 |   41 |   77 |   58 |   40 |\n| A1BG-AS1 |  256 |  177 |  220 |  189 |  107 |  213 |  172 |  126 |\n| A1CF |    0 |    1 |    1 |    0 |    0 |    0 |    0 |    0 |\n| A2LD1 |  146 |   81 |  138 |  125 |   52 |   91 |   80 |   50 |\n| A2M |   10 |    9 |    2 |    5 |    2 |    9 |    8 |    4 |\n| A2ML1 |    3 |    2 |    6 |    5 |    2 |    2 |    1 |    0 |\n| A2MP1 |    0 |    0 |    2 |    1 |    3 |    0 |    2 |    1 |\n| A4GALT |   56 |   37 |  107 |  118 |   65 |   49 |   52 |   37 |\n| A4GNT |    0 |    0 |    0 |    0 |    1 |    0 |    0 |    0 |\n| AA06 |    0 |    0 |    0 |    0 |    0 |    0 |    0 |    0 |\n| AAA1 |    0 |    0 |    1 |    0 |    0 |    0 |    0 |    0 |\n| AAAS | 2288 | 1363 | 1753 | 1727 |  835 | 1672 | 1389 | 1121 |\n| AACS | 1586 |  923 |  951 |  967 |  484 |  938 |  771 |  635 |\n| AACSP1 |    1 |    1 |    3 |    0 |    1 |    1 |    1 |    3 |\n| AADAC |    0 |    0 |    0 |    0 |    0 |    0 |    0 |    0 |\n| AADACL2 |    0 |    0 |    0 |    0 |    0 |    0 |    0 |    0 |\n| AADACL3 |    0 |    0 |    0 |    0 |    0 |    0 |    0 |    0 |\n| AADACL4 |    0 |    0 |    1 |    1 |    0 |    0 |    0 |    0 |\n| AADAT |  856 |  539 |  593 |  576 |  359 |  567 |  521 |  416 |\n| AAGAB | 4648 | 2550 | 2648 | 2356 | 1481 | 3265 | 2790 | 2118 |\n| AAK1 | 2310 | 1384 | 1869 | 1602 |  980 | 1675 | 1614 | 1108 |\n| AAMP | 5198 | 3081 | 3179 | 3137 | 1721 | 4061 | 3304 | 2623 |\n| AANAT |    7 |    7 |   12 |   12 |    4 |    6 |    2 |    7 |\n| AARS | 5570 | 3323 | 4782 | 4580 | 2473 | 3953 | 3339 | 2666 |\n| AARS2 | 4451 | 2727 | 2281 | 2121 | 1249 | 2480 | 2074 | 1657 |\n| AARSD1 | 1622 |  897 | 1057 | 1017 |  556 |  887 |  783 |  563 |\n| AASDH | 1278 |  766 |  980 |  929 |  568 |  827 |  717 |  553 |\n| AASDHPPT | 5522 | 3184 | 3867 | 3423 | 2226 | 4620 | 3742 | 2892 |\n| AASS | 1645 | 1001 | 1367 | 1103 |  833 | 1023 |  851 |  623 |\n| ⋮ | ⋮ | ⋮ | ⋮ | ⋮ | ⋮ | ⋮ | ⋮ | ⋮ |\n| ZSCAN2 |  790 |  489 |  589 |  619 |  323 |  520 |  465 |  362 |\n| ZSCAN20 |  517 |  327 |  401 |  362 |  230 |  349 |  325 |  269 |\n| ZSCAN21 |  822 |  515 |  603 |  552 |  298 |  594 |  504 |  382 |\n| ZSCAN22 |  820 |  494 |  535 |  513 |  292 |  447 |  368 |  289 |\n| ZSCAN23 |  225 |  144 |  195 |  174 |   99 |  135 |  122 |  100 |\n| ZSCAN29 | 1760 | 1032 | 1313 | 1166 |  667 | 1207 | 1041 |  826 |\n| ZSCAN30 | 1430 |  864 | 1267 | 1094 |  714 |  993 |  889 |  747 |\n| ZSCAN4 |    3 |    3 |    5 |    2 |    1 |    2 |    1 |    2 |\n| ZSCAN5A |  239 |  113 |  112 |   90 |   60 |  198 |  156 |  115 |\n| ZSCAN5B |    5 |    3 |    2 |    2 |    0 |    5 |    2 |    2 |\n| ZSWIM1 |  766 |  478 |  542 |  528 |  264 |  518 |  453 |  327 |\n| ZSWIM2 |    0 |    0 |    0 |    1 |    0 |    0 |    0 |    0 |\n| ZSWIM3 |  460 |  254 |  303 |  258 |  136 |  247 |  223 |  178 |\n| ZSWIM4 |  401 |  248 |  477 |  469 |  232 |  284 |  256 |  203 |\n| ZSWIM5 | 1164 |  652 |  702 |  572 |  299 |  851 |  772 |  611 |\n| ZSWIM6 | 3822 | 2311 | 2448 | 2221 | 1305 | 2258 | 2030 | 1480 |\n| ZSWIM7 | 1064 |  634 |  757 |  667 |  401 |  792 |  657 |  540 |\n| ZUFSP | 1241 |  758 | 1257 | 1077 |  799 |  841 |  795 |  621 |\n| ZW10 | 2536 | 1450 | 1384 | 1290 |  769 | 1635 | 1401 | 1108 |\n| ZWILCH | 4000 | 2287 | 2888 | 2534 | 1497 | 3071 | 2565 | 1889 |\n| ZWINT | 6771 | 4121 | 4603 | 4293 | 2561 | 5098 | 4530 | 3547 |\n| ZXDA |  308 |  204 |  362 |  317 |  219 |  218 |  209 |  144 |\n| ZXDB | 1155 |  602 | 1027 |  945 |  592 |  826 |  691 |  510 |\n| ZXDC | 4578 | 2778 | 4478 | 3911 | 2412 | 3224 | 3051 | 2268 |\n| ZYG11A | 1072 |  678 |  991 |  920 |  588 |  783 |  632 |  493 |\n| ZYG11B | 4628 | 2817 | 3406 | 3072 | 2049 | 3267 | 3035 | 2278 |\n| ZYX | 5296 | 2982 | 3244 | 3485 | 1596 | 3344 | 2700 | 2135 |\n| ZZEF1 | 4353 | 2358 | 2482 | 1991 | 1114 | 2334 | 1950 | 1572 |\n| ZZZ3 | 3401 | 2006 | 2514 | 2236 | 1466 | 2657 | 2419 | 1643 |\n| tAKR |    1 |    1 |    0 |    0 |    0 |    0 |    1 |    0 |\n\n",
            "text/latex": "A data.frame: 23368 × 8\n\\begin{tabular}{r|llllllll}\n  & Mov10\\_kd\\_2 & Mov10\\_kd\\_3 & Mov10\\_oe\\_1 & Mov10\\_oe\\_2 & Mov10\\_oe\\_3 & Irrel\\_kd\\_1 & Irrel\\_kd\\_2 & Irrel\\_kd\\_3\\\\\n  & <int> & <int> & <int> & <int> & <int> & <int> & <int> & <int>\\\\\n\\hline\n\t1/2-SBSRNA4 &   57 &   41 &   64 &   55 &   38 &   45 &   31 &   39\\\\\n\tA1BG &   71 &   40 &  100 &   81 &   41 &   77 &   58 &   40\\\\\n\tA1BG-AS1 &  256 &  177 &  220 &  189 &  107 &  213 &  172 &  126\\\\\n\tA1CF &    0 &    1 &    1 &    0 &    0 &    0 &    0 &    0\\\\\n\tA2LD1 &  146 &   81 &  138 &  125 &   52 &   91 &   80 &   50\\\\\n\tA2M &   10 &    9 &    2 &    5 &    2 &    9 &    8 &    4\\\\\n\tA2ML1 &    3 &    2 &    6 &    5 &    2 &    2 &    1 &    0\\\\\n\tA2MP1 &    0 &    0 &    2 &    1 &    3 &    0 &    2 &    1\\\\\n\tA4GALT &   56 &   37 &  107 &  118 &   65 &   49 &   52 &   37\\\\\n\tA4GNT &    0 &    0 &    0 &    0 &    1 &    0 &    0 &    0\\\\\n\tAA06 &    0 &    0 &    0 &    0 &    0 &    0 &    0 &    0\\\\\n\tAAA1 &    0 &    0 &    1 &    0 &    0 &    0 &    0 &    0\\\\\n\tAAAS & 2288 & 1363 & 1753 & 1727 &  835 & 1672 & 1389 & 1121\\\\\n\tAACS & 1586 &  923 &  951 &  967 &  484 &  938 &  771 &  635\\\\\n\tAACSP1 &    1 &    1 &    3 &    0 &    1 &    1 &    1 &    3\\\\\n\tAADAC &    0 &    0 &    0 &    0 &    0 &    0 &    0 &    0\\\\\n\tAADACL2 &    0 &    0 &    0 &    0 &    0 &    0 &    0 &    0\\\\\n\tAADACL3 &    0 &    0 &    0 &    0 &    0 &    0 &    0 &    0\\\\\n\tAADACL4 &    0 &    0 &    1 &    1 &    0 &    0 &    0 &    0\\\\\n\tAADAT &  856 &  539 &  593 &  576 &  359 &  567 &  521 &  416\\\\\n\tAAGAB & 4648 & 2550 & 2648 & 2356 & 1481 & 3265 & 2790 & 2118\\\\\n\tAAK1 & 2310 & 1384 & 1869 & 1602 &  980 & 1675 & 1614 & 1108\\\\\n\tAAMP & 5198 & 3081 & 3179 & 3137 & 1721 & 4061 & 3304 & 2623\\\\\n\tAANAT &    7 &    7 &   12 &   12 &    4 &    6 &    2 &    7\\\\\n\tAARS & 5570 & 3323 & 4782 & 4580 & 2473 & 3953 & 3339 & 2666\\\\\n\tAARS2 & 4451 & 2727 & 2281 & 2121 & 1249 & 2480 & 2074 & 1657\\\\\n\tAARSD1 & 1622 &  897 & 1057 & 1017 &  556 &  887 &  783 &  563\\\\\n\tAASDH & 1278 &  766 &  980 &  929 &  568 &  827 &  717 &  553\\\\\n\tAASDHPPT & 5522 & 3184 & 3867 & 3423 & 2226 & 4620 & 3742 & 2892\\\\\n\tAASS & 1645 & 1001 & 1367 & 1103 &  833 & 1023 &  851 &  623\\\\\n\t⋮ & ⋮ & ⋮ & ⋮ & ⋮ & ⋮ & ⋮ & ⋮ & ⋮\\\\\n\tZSCAN2 &  790 &  489 &  589 &  619 &  323 &  520 &  465 &  362\\\\\n\tZSCAN20 &  517 &  327 &  401 &  362 &  230 &  349 &  325 &  269\\\\\n\tZSCAN21 &  822 &  515 &  603 &  552 &  298 &  594 &  504 &  382\\\\\n\tZSCAN22 &  820 &  494 &  535 &  513 &  292 &  447 &  368 &  289\\\\\n\tZSCAN23 &  225 &  144 &  195 &  174 &   99 &  135 &  122 &  100\\\\\n\tZSCAN29 & 1760 & 1032 & 1313 & 1166 &  667 & 1207 & 1041 &  826\\\\\n\tZSCAN30 & 1430 &  864 & 1267 & 1094 &  714 &  993 &  889 &  747\\\\\n\tZSCAN4 &    3 &    3 &    5 &    2 &    1 &    2 &    1 &    2\\\\\n\tZSCAN5A &  239 &  113 &  112 &   90 &   60 &  198 &  156 &  115\\\\\n\tZSCAN5B &    5 &    3 &    2 &    2 &    0 &    5 &    2 &    2\\\\\n\tZSWIM1 &  766 &  478 &  542 &  528 &  264 &  518 &  453 &  327\\\\\n\tZSWIM2 &    0 &    0 &    0 &    1 &    0 &    0 &    0 &    0\\\\\n\tZSWIM3 &  460 &  254 &  303 &  258 &  136 &  247 &  223 &  178\\\\\n\tZSWIM4 &  401 &  248 &  477 &  469 &  232 &  284 &  256 &  203\\\\\n\tZSWIM5 & 1164 &  652 &  702 &  572 &  299 &  851 &  772 &  611\\\\\n\tZSWIM6 & 3822 & 2311 & 2448 & 2221 & 1305 & 2258 & 2030 & 1480\\\\\n\tZSWIM7 & 1064 &  634 &  757 &  667 &  401 &  792 &  657 &  540\\\\\n\tZUFSP & 1241 &  758 & 1257 & 1077 &  799 &  841 &  795 &  621\\\\\n\tZW10 & 2536 & 1450 & 1384 & 1290 &  769 & 1635 & 1401 & 1108\\\\\n\tZWILCH & 4000 & 2287 & 2888 & 2534 & 1497 & 3071 & 2565 & 1889\\\\\n\tZWINT & 6771 & 4121 & 4603 & 4293 & 2561 & 5098 & 4530 & 3547\\\\\n\tZXDA &  308 &  204 &  362 &  317 &  219 &  218 &  209 &  144\\\\\n\tZXDB & 1155 &  602 & 1027 &  945 &  592 &  826 &  691 &  510\\\\\n\tZXDC & 4578 & 2778 & 4478 & 3911 & 2412 & 3224 & 3051 & 2268\\\\\n\tZYG11A & 1072 &  678 &  991 &  920 &  588 &  783 &  632 &  493\\\\\n\tZYG11B & 4628 & 2817 & 3406 & 3072 & 2049 & 3267 & 3035 & 2278\\\\\n\tZYX & 5296 & 2982 & 3244 & 3485 & 1596 & 3344 & 2700 & 2135\\\\\n\tZZEF1 & 4353 & 2358 & 2482 & 1991 & 1114 & 2334 & 1950 & 1572\\\\\n\tZZZ3 & 3401 & 2006 & 2514 & 2236 & 1466 & 2657 & 2419 & 1643\\\\\n\ttAKR &    1 &    1 &    0 &    0 &    0 &    0 &    1 &    0\\\\\n\\end{tabular}\n"
          },
          "metadata": {}
        }
      ]
    },
    {
      "cell_type": "code",
      "source": [
        "library(ggplot2)\n",
        "ggplot(data) +\n",
        "  geom_histogram(aes(x = Mov10_oe_1), stat = \"bin\", bins = 200) +\n",
        "  xlab(\"Raw expression counts\") +\n",
        "  ylab(\"Number of genes\")"
      ],
      "metadata": {
        "colab": {
          "base_uri": "https://localhost:8080/",
          "height": 437
        },
        "id": "UCJg1QjcSIQI",
        "outputId": "d8b068fc-2ec7-44da-98ca-5b1009fa59d0"
      },
      "execution_count": 24,
      "outputs": [
        {
          "output_type": "display_data",
          "data": {
            "text/plain": [
              "plot without title"
            ],
            "image/png": "[encoded data removed]"
          },
          "metadata": {
            "image/png": {
              "width": 420,
              "height": 420
            }
          }
        }
      ]
    },
    {
      "cell_type": "code",
      "source": [
        "ggplot(data) +\n",
        "  geom_histogram(aes(x = Mov10_oe_1), stat = \"bin\", bins = 200) +\n",
        "  xlim(-5, 500)  +\n",
        "  xlab(\"Raw expression counts\")"
      ],
      "metadata": {
        "colab": {
          "base_uri": "https://localhost:8080/",
          "height": 524
        },
        "id": "kPV-thm2SQKM",
        "outputId": "190d2396-d6c0-4af6-a02a-b5077141cfee"
      },
      "execution_count": 26,
      "outputs": [
        {
          "output_type": "stream",
          "name": "stderr",
          "text": [
            "Warning message:\n",
            "“\u001b[1m\u001b[22mRemoved 9121 rows containing non-finite outside the scale range (`stat_bin()`).”\n",
            "Warning message:\n",
            "“\u001b[1m\u001b[22mRemoved 2 rows containing missing values or values outside the scale range\n",
            "(`geom_bar()`).”\n"
          ]
        },
        {
          "output_type": "display_data",
          "data": {
            "text/plain": [
              "plot without title"
            ],
            "image/png": "[encoded data removed]"
          },
          "metadata": {
            "image/png": {
              "width": 420,
              "height": 420
            }
          }
        }
      ]
    },
    {
      "cell_type": "code",
      "source": [
        "mean_counts <- apply(data[,6:8], 1, mean)        #The second argument '1' of 'apply' function indicates the function being applied to rows. Use '2' if applied to columns\n",
        "variance_counts <- apply(data[,6:8], 1, var)\n",
        "df <- data.frame(mean_counts, variance_counts)"
      ],
      "metadata": {
        "id": "Hliac_F0TCPm"
      },
      "execution_count": 27,
      "outputs": []
    },
    {
      "cell_type": "code",
      "source": [
        "ggplot(df) +\n",
        "  geom_point(aes(x=mean_counts, y=variance_counts)) +\n",
        "  scale_y_log10(limits = c(1,1e9)) +\n",
        "  scale_x_log10(limits = c(1,1e9)) +\n",
        "  geom_abline(intercept = 0, slope = 1, color=\"red\")"
      ],
      "metadata": {
        "colab": {
          "base_uri": "https://localhost:8080/",
          "height": 559
        },
        "id": "E5fEH0gIFas8",
        "outputId": "25e803d9-9229-43da-cc7e-f2b904141b01"
      },
      "execution_count": 28,
      "outputs": [
        {
          "output_type": "stream",
          "name": "stderr",
          "text": [
            "Warning message in scale_y_log10(limits = c(1, 1e+09)):\n",
            "“\u001b[1m\u001b[22m\u001b[32mlog-10\u001b[39m transformation introduced infinite values.”\n",
            "Warning message in scale_x_log10(limits = c(1, 1e+09)):\n",
            "“\u001b[1m\u001b[22m\u001b[32mlog-10\u001b[39m transformation introduced infinite values.”\n",
            "Warning message:\n",
            "“\u001b[1m\u001b[22mRemoved 1780 rows containing missing values or values outside the scale range\n",
            "(`geom_point()`).”\n"
          ]
        },
        {
          "output_type": "display_data",
          "data": {
            "text/plain": [
              "plot without title"
            ],
            "image/png": "[encoded data removed]"
          },
          "metadata": {
            "image/png": {
              "width": 420,
              "height": 420
            }
          }
        }
      ]
    },
    {
      "cell_type": "code",
      "source": [],
      "metadata": {
        "id": "yic89IWtTEaz"
      },
      "execution_count": null,
      "outputs": []
    }
  ],
  "metadata": {
    "colab": {
      "name": "TensorFlow with GPU",
      "provenance": []
    },
    "kernelspec": {
      "display_name": "R",
      "name": "ir"
    },
    "language_info": {
      "name": "R"
    }
  },
  "nbformat": 4,
  "nbformat_minor": 0
}